{
 "cells": [
  {
   "cell_type": "code",
   "metadata": {
    "tags": [],
    "deepnote_to_be_reexecuted": false,
    "source_hash": "e442612b",
    "execution_start": 1661556174403,
    "execution_millis": 151,
    "cell_id": "00006-651403bd-6c0e-4830-83fa-dc5fd9e9d40f",
    "deepnote_cell_type": "code",
    "deepnote_cell_height": 148
   },
   "source": "import requests\nfrom bs4 import BeautifulSoup\nimport csv\nimport pandas as pd\nimport os",
   "execution_count": 1,
   "outputs": []
  },
  {
   "cell_type": "markdown",
   "source": "## Prioritas Scrapping",
   "metadata": {
    "formattedRanges": [],
    "is_collapsed": false,
    "tags": [],
    "cell_id": "00007-e18eaf45-60fd-470e-93f4-013e92f85b56",
    "deepnote_cell_type": "text-cell-h2"
   }
  },
  {
   "cell_type": "code",
   "metadata": {
    "tags": [],
    "deepnote_to_be_reexecuted": false,
    "source_hash": "c5f1e31",
    "execution_start": 1661556174596,
    "execution_millis": 1,
    "cell_id": "00008-639efd38-41b3-45ce-ad0d-13f1e8368a47",
    "deepnote_cell_type": "code",
    "deepnote_cell_height": 76
   },
   "source": "path_of_the_directory= '/work/Prioritas'",
   "execution_count": 2,
   "outputs": []
  },
  {
   "cell_type": "code",
   "metadata": {
    "tags": [],
    "deepnote_to_be_reexecuted": false,
    "source_hash": "f8d6d2a1",
    "execution_start": 1661556174597,
    "execution_millis": 1567,
    "cell_id": "00009-35c202ea-783e-4a14-b0e9-884203eb31aa",
    "deepnote_cell_type": "code",
    "deepnote_cell_height": 418
   },
   "source": "prioritas2024 = []\nprioritas2019 = []\nfor filename in os.listdir(path_of_the_directory):\n    fname = path_of_the_directory + '/' + filename\n    f = open(fname, 'r')\n    soup= BeautifulSoup(f.read(), 'html.parser')\n    items = soup.find_all('tr', {'role':'row'})[1:-1]\n    year = filename[:4]\n    for item in items:\n        name = item.find('a').text.strip()\n        info = item.find_all('td')\n        date = info[4].text.strip()\n        sponsor = info[9].text.strip()\n        status = info[5].text.strip()\n        data = [name, date, sponsor, status, year]\n        category = info[7].text\n        if category == 'Prolegnas 2015-2019':\n            prioritas2019.append(data)\n        else:\n            prioritas2024.append(data) ",
   "execution_count": 3,
   "outputs": []
  },
  {
   "cell_type": "code",
   "metadata": {
    "tags": [],
    "deepnote_to_be_reexecuted": false,
    "source_hash": "a7244e4e",
    "execution_start": 1661556176172,
    "execution_millis": 43,
    "cell_id": "00010-237b6302-978d-4fe6-ad7c-ea2b9975a864",
    "deepnote_cell_type": "code",
    "deepnote_cell_height": 111.1875
   },
   "source": "print(prioritas2019)",
   "execution_count": 4,
   "outputs": [
    {
     "name": "stdout",
     "text": "[['RUU tentang Perubahan atas Undang-Undang Nomor 32 Tahun 2002 tentang Penyiaran', '10 Mar 2020', 'DPR', 'Harmonisasi', '2015'], ['RUU tentang Radio Televisi Republik Indonesia', '07 Feb 2018', 'DPR', 'Penyusunan', '2015'], ['RUU tentang Perubahan atas Undang - Undang Nomor 11 Tahun 2008 tentang Informasi dan Transaksi Elektronik (ITE)', '08 Des 2016', 'PEMERINTAH', 'Selesai', '2015'], ['RUU tentang Wawasan Nusantara', '24 Okt 2016', 'DPD', 'Pembahasan', '2015'], ['RUU tentang Pertanahan', '09 Sep 2019', 'DPR', 'Pembahasan', '2015'], ['RUU tentang Perubahan atas Undang - Undang Nomor 1 Tahun 2015 tentang Penetapan Peraturan Pemerintah Pengganti UU Nomor 1 Tahun 2014 tentang Pemilihan Gubernur, Bupati, dan Walikota Menjadi UU', '08 Apr 2016', 'DPR', 'Selesai', '2015'], ['RUU tentang Perubahan Kedua Atas UU Nomor 23 Tahun 2014 tentang Pemerintahan Daerah', '23 Agust 2022', 'DPR', 'Selesai', '2015'], ['RUU tentang Peningkatan Pendapatan Asli Daerah', '23 Agust 2022', 'DPR', 'Terdaftar', '2015'], ['RUU tentang Kitab Undang - Undang Hukum Pidana', '12 Nop 2019', 'PEMERINTAH', 'Pembahasan', '2015'], ['RUU tentang Merek', '27 Okt 2016', 'PEMERINTAH', 'Selesai', '2015'], ['RUU tentang Paten', '28 Jul 2016', 'PEMERINTAH', 'Selesai', '2015'], ['RUU tentang Komisi Kebenaran dan Rekonsiliasi', '23 Agust 2022', 'PEMERINTAH', 'Terdaftar', '2015'], ['RUU tentang Perlindungan dan Pemberdayaan Nelayan', '03 Mar 2016', 'DPR', 'Selesai', '2015'], ['RUU tentang Perubahan atas Undang-Undang Nomor 16 Tahun 1992 tentang Karantina Hewan, Ikan dan Tumbuhan', '18 Mar 2016', 'DPR', 'Pembahasan', '2015'], ['RUU tentang Jasa Konstruksi', '15 Des 2016', 'DPR', 'Selesai', '2015'], ['RUU tentang Arsitek', '04 Okt 2016', 'DPR', 'Selesai', '2015'], ['RUU tentang Tabungan Perumahan Rakyat', '23 Feb 2016', 'DPR', 'Selesai', '2015'], ['RUU tentang Perubahan atas UU Nomor 19 Tahun 2003 tentang BUMN', '02 Okt 2018', 'DPR', 'Pembahasan', '2015'], ['RUU tentang Perubahan atas UU Nomor 5 Tahun 1999 tentang Larangan Praktik Monopoli dan Persaingan Usaha Tidak Sehat', '26 Jul 2017', 'DPR', 'Pembahasan', '2015'], ['RUU tentang Larangan Minuman Beralkohol', '19 Okt 2016', 'DPR', 'Pembahasan', '2015'], ['RUU tentang Pertembakauan', '08 Jan 2019', 'DPR', 'Pembahasan', '2015'], ['RUU tentang Kewirausahaan Nasional', '24 Okt 2018', 'DPR', 'Pembahasan', '2015'], ['RUU tentang Perubahan atas UU Nomor 22 Tahun 2001 tentang Minyak dan Gas Bumi', '10 Sep 2018', 'DPR', 'Pembahasan', '2015'], ['RUU tentang Perubahan atas Undang - Undang Nomor 4 Tahun 2009 tentang Pertambangan Mineral dan Batubara', '27 Agust 2021', 'DPR', 'Pembahasan', '2015'], ['RUU tentang Penyandang Disabilitas', '05 Okt 2015', 'DPR', 'Selesai', '2015'], ['RUU tentang Pengelolaan Ibadah Haji dan Penyelenggaraan Umrah', '28 Mar 2019', 'DPR', 'Pembahasan', '2015'], ['RUU tentang Perlindungan Pekerja Indonesia di Luar Negeri', '07 Sep 2015', 'DPR', 'Selesai', '2015'], ['RUU tentang Kekarantinaan Kesehatan', '10 Jul 2018', 'PEMERINTAH', 'Terdaftar', '2015'], ['RUU tentang Perubahan Atas UU Nomor 2 Tahun 2004 Tentang Penyelesaian Perselisi han Hubungan Industrial', '23 Agust 2022', 'DPR', 'Penyusunan', '2015'], ['RUU tentang Sistem Perbukuan', '27 Apr 2017', 'DPR', 'Selesai', '2015'], ['RUU tentang Perubahan Kedua atas Undang - Undang Nomor 7 Tahun 1992 tentang Perbankan', '23 Agust 2022', 'DPR', 'Penyusunan', '2015'], ['RUU tentang Perubahan Kedua atas UU Nomor 23 Tahun 1999 Tentang Bank Indonesia', '18 Nop 2015', 'DPR', 'Penyusunan', '2015'], ['RUU tentang Penjaminan', '17 Des 2015', 'DPR', 'Selesai', '2015'], ['RUU tentang Jaring Pengaman Sistem Keuangan', '17 Mar 2016', 'PEMERINTAH', 'Selesai', '2015'], ['RUU tentang Perubahan atas Undang - Undang Nomor 20 Tahun 1997 tentang Penerimaan Negara Bukan Pajak', '25 Agust 2016', 'PEMERINTAH', 'Pembahasan', '2015'], ['RUU tentang Perubahan Kelima Atas UU Nomor 6 Tah un 1983 tentang Ketentuan Umum Dan Tata Cara Perpajakan', '05 Jul 2021', 'PEMERINTAH', 'Pembahasan', '2015'], ['RUU tentang Bea Materai', '27 Agust 2021', 'PEMERINTAH', 'Keputusan', '2015'], ['RUU tentang Kebudayaan', '27 Apr 2017', 'DPR', 'Selesai', '2015'], ['RUU tentang Pengampunan Pajak', '28 Jun 2016', 'PEMERINTAH', 'Selesai', '2015'], ['RUU tentang Pertanahan', '09 Sep 2019', 'DPR', 'Pembahasan', '2019'], ['RUU tentang Jabatan Hakim', '18 Jan 2017', 'DPR', 'Pembahasan', '2019'], ['RUU tentang Karantina Hewan, Ikan dan Tumbuhan', '18 Mar 2016', 'DPR', 'Pembahasan', '2019'], ['RUU tentang Perubahan atas UU Nomor 5 Tahun 1999 tentang Larangan Praktik Monopoli dan Persaingan Usaha Tidak Sehat', '26 Jul 2017', 'DPR', 'Pembahasan', '2019'], ['RUU tentang Pengelolaan Ibadah Haji dan Penyelenggaraan Umrah', '28 Mar 2019', 'DPR', 'Pembahasan', '2019'], ['RUU tentang Penghapusan Kekerasan Seksual', '18 Jan 2022', 'DPR', 'Pembahasan', '2019'], ['RUU tentang Perubahan Atas Undang-Undang Nomor 5 Tahun 2014 tentang Aparatur Sipil Negara', '06 Des 2018', 'DPR', 'Pembahasan', '2019'], ['RUU tentang Larangan Minuman Beralkohol', '19 Okt 2016', 'DPR', 'Pembahasan', '2019'], ['RUU tentang Pertembakauan', '08 Jan 2019', 'DPR', 'Pembahasan', '2019'], ['RUU tentang Kewirausahaan Nasional', '24 Okt 2018', 'DPR', 'Pembahasan', '2019'], ['RUU tentang Serah Simpan Karya Cetak, Karya Rekam, dan Karya Elektronik', '06 Mar 2018', 'DPR', 'Keputusan', '2019'], ['RUU tentang Kebidanan', '13 Feb 2019', 'DPR', 'Keputusan', '2019'], ['RUU tentang Konservasi Sumber Daya alam Hayati dan Ekosistemnya', '02 Apr 2018', 'DPR', 'Harmonisasi', '2019'], ['RUU tentang Sistem Budidaya Pertanian Berkelanjutan', '25 Apr 2018', 'DPR', 'Penyusunan', '2019'], ['RUU tentang Masyarakat Hukum Adat', '13 Des 2018', 'DPR', 'Terdaftar', '2019'], ['RUU tentang Perubahan atas Undang - Undang Nomor 4 Tahun 2009 tentang Pertambangan Mineral dan Batubara', '27 Agust 2021', 'DPR', 'Pembahasan', '2019'], ['RUU Tentang Konsultan Pajak', '09 Okt 2018', 'DPR', 'Pembahasan', '2019'], ['RUU tentang Kitab Undang - Undang Hukum Pidana', '12 Nop 2019', 'PEMERINTAH', 'Pembahasan', '2019'], ['RUU tentang Perubahan Kelima Atas UU Nomor 6 Tahun 1983 tentang Ketentuan Umum Dan Tata Cara Perpajakan', '05 Jul 2021', 'PEMERINTAH', 'Pembahasan', '2019'], ['RUU tentang Sistem Nasional Ilmu Pengetahuan dan Teknologi', '17 Okt 2018', 'PEMERINTAH', 'Pembahasan', '2019'], ['RUU tentang Mahkamah Konstitusi', '23 Okt 2017', 'PEMERINTAH', 'Terdaftar', '2019'], ['RUU tentang Perubahan atas UU Nomor 15 Tahun 2006 tentang Badan Pemeriksa Keuangan', '25 Jul 2018', 'PEMERINTAH', 'Pembahasan', '2019'], ['RUU tentang Bea Materai', '27 Agust 2021', 'PEMERINTAH', 'Keputusan', '2019'], ['RUU tentang Ekonomi Kreatif', '26 Sep 2019', 'DPD', 'Pembahasan', '2019'], ['RUU tentang Wawasan Nusantara', '24 Okt 2016', 'DPD', 'Pembahasan', '2019'], ['RUU tentang Daerah Kepulauan', '13 Feb 2019', 'DPD', 'Pembahasan', '2019'], ['RUU tentang Badan Usaha Milik Negara', '02 Okt 2018', 'DPR', 'Pembahasan', '2019'], ['RUU tentang Pendidikan Kedokteran.', '02 Okt 2018', 'DPR', 'Pembahasan', '2019'], ['RUU tentang Pekerja Sosial', '29 Agust 2019', 'DPR', 'Pembahasan', '2019'], ['RUU tentang Pesantren dan Pendidikan Keagamaan', '10 Jul 2019', 'DPR', 'Pembahasan', '2019'], ['RUU tentang Narkotika dan Psikotropika', '08 Mar 2018', 'PEMERINTAH', 'Terdaftar', '2019'], ['RUU tentang Hubungan Keuangan antara Pemerintah Pusat dan Daerah', '29 Jun 2021', 'PEMERINTAH', 'Terdaftar', '2019'], ['RUU tentang Perubahan atas Undang-Undang Nomor 12 Tahun 1995 tentang Pemasyarakatan', '17 Sep 2019', 'PEMERINTAH', 'Terdaftar', '2019'], ['RUU tentang Pembatasan Transaksi Uang Kartal', '23 Agust 2022', 'PEMERINTAH', 'Terdaftar', '2019'], ['RUU tentang Landas Kontinen Indonesia', '23 Agust 2022', 'PEMERINTAH', 'Terdaftar', '2019'], ['RUU tentang Desain Industri', '23 Agust 2022', 'PEMERINTAH', 'Terdaftar', '2019'], ['RUU tentang Perubahan atas UU Nomor 22 Tahun 2001 tentang Minyak dan Gas Bumi', '10 Sep 2018', 'DPR', 'Pembahasan', '2019'], ['RUU tentang Perubahan atas Undang-Undang Nomor 32 Tahun 2002 tentang Penyiaran', '10 Mar 2020', 'DPR', 'Harmonisasi', '2019'], ['RUU tentang Perkelapasawitan', '28 Mar 2018', 'DPR', 'Harmonisasi', '2019'], ['RUU tentang Kitab Undang-Undang Hukum Acara Pidana', '23 Agust 2022', 'DPR', 'Terdaftar', '2019'], ['RUU tentang Penyadapan', '03 Jul 2019', 'DPR', 'Penyusunan', '2019'], ['RUU tentang Pengawasan Obat dan Makanan serta Pemanfaatan Obat Asli Indonesia', '31 Mar 2021', 'DPR', 'Penyusunan', '2019'], ['RUU tentang Perubahan atas Undang-Undang nomor 22 tahun 2009 tentang Lalu Lintas dan Angkutan Jalan', '23 Agust 2022', 'DPR', 'Terdaftar', '2019'], ['RUU tentang Energi Baru dan Terbarukan', '23 Agust 2022', 'DPR', 'Terdaftar', '2019'], ['RUU tentang Perubahan atas Undang-Undang Nomor 12 Tahun 2011 tentang Pembentukan Peraturan Perundang-Undangan', '18 Sep 2019', 'DPR', 'Penyusunan', '2019'], ['RUU tentang Perubahan atas Undang-Undang Nomor 24 Tahun 2007 tentang Penanggulangan Bencana.', '30 Nop 2020', 'DPR', 'Penyusunan', '2019'], ['RUU tentang Permusikan', '23 Agust 2022', 'DPR', 'Terdaftar', '2019'], ['RUU tentang Keamanan dan Ketahanan Siber', '28 Mei 2019', 'DPR', 'Penyusunan', '2019'], ['RUU tentang Perubahan Kedua atas Undang-Undang Nomor 17 Tahun 2013 tentang Organisasi Kemasyarakatan', '23 Agust 2022', 'DPR', 'Terdaftar', '2019'], ['RUU tentang Pengelolaan Sumber Daya Nasional Pertahanan Negara', '26 Sep 2019', 'PEMERINTAH', 'Terdaftar', '2019'], ['RUU tentang Hukum Acara Perdata', '23 Agust 2022', 'PEMERINTAH', 'Terdaftar', '2019'], ['RUU tentang Data Pribadi', '23 Agust 2022', 'PEMERINTAH', 'Terdaftar', '2019'], ['RUU tentang Wabah', '23 Agust 2022', 'PEMERINTAH', 'Terdaftar', '2019'], ['RUU tentang Bahasa Daerah', '23 Agust 2022', 'DPD', 'Terdaftar', '2019'], ['RUU tentang Pertanahan', '09 Sep 2019', 'DPR', 'Pembahasan', '2018'], ['RUU tentang Jabatan Hakim', '18 Jan 2017', 'DPR', 'Pembahasan', '2018'], ['RUU tentang Karantina Hewan, Ikan dan Tumbuhan', '18 Mar 2016', 'DPR', 'Pembahasan', '2018'], ['RUU tentang Sistem Budidaya Pertanian Berkelanjutan', '25 Apr 2018', 'DPR', 'Penyusunan', '2018'], ['RUU tentang Perubahan atas UU Nomor 5 Tahun 1999 tentang Larangan Praktik Monopoli dan Persaingan Usaha Tidak Sehat', '26 Jul 2017', 'DPR', 'Pembahasan', '2018'], ['RUU tentang Penyelenggaraan Ibadah Haji dan Umrah', '28 Mar 2019', 'DPR', 'Pembahasan', '2018'], ['RUU tentang Penghapusan Kekerasan Seksual', '18 Jan 2022', 'DPR', 'Pembahasan', '2018'], ['RUU tentang Perubahan Atas Undang-Undang Nomor 5 Tahun 2014 tentang Aparatur Sipil Negara', '06 Des 2018', 'DPR', 'Pembahasan', '2018'], ['RUU tentang Perubahan Kedua atas Undang-Undang Nomor 17 Tahun 2014 tentang Majelis Permusyawaratan Rakyat, Dewan Perwakilan Rakyat, Dewan Perwakilan Daerah, dan Dewan Perwakilan Rakyat Daerah', '07 Feb 2018', 'DPR', 'Terdaftar', '2018'], ['RUU tentang Larangan Minuman Beralkohol', '19 Okt 2016', 'DPR', 'Pembahasan', '2018'], ['RUU tentang Pertembakauan', '08 Jan 2019', 'DPR', 'Pembahasan', '2018'], ['RUU tentang Kewirausahaan Nasional', '24 Okt 2018', 'DPR', 'Pembahasan', '2018'], ['RUU tentang Konservasi Sumber Daya Alam Hayati dan Ekosistemnya', '02 Apr 2018', 'DPR', 'Harmonisasi', '2018'], ['RUU tentang Perubahan atas Undang-Undang Nomor 32 Tahun 2002 tentang Penyiaran', '10 Mar 2020', 'DPR', 'Harmonisasi', '2018'], ['RUU tentang Radio Televisi Republik Indonesia', '07 Feb 2018', 'DPR', 'Penyusunan', '2018'], ['RUU tentang Badan Usaha Milik Negara', '02 Okt 2018', 'DPR', 'Pembahasan', '2018'], ['RUU tentang Perubahan atas UU Nomor 22 Tahun 2001 tentang Minyak dan Gas Bumi', '10 Sep 2018', 'DPR', 'Pembahasan', '2018'], ['RUU tentang Perubahan atas Undang - Undang Nomor 4 Tahun 2009 tentang Pertambangan Mineral dan Batubara', '27 Agust 2021', 'DPR', 'Pembahasan', '2018'], ['RUU tentang Praktik Pekerjaan Sosial', '29 Agust 2019', 'DPR', 'Pembahasan', '2018'], ['RUU tentang Kebidanan', '13 Feb 2019', 'DPR', 'Keputusan', '2018'], ['RUU tentang Serah Simpan Karya Cetak, Karya Rekam, dan Karya Elektronik', '06 Mar 2018', 'DPR', 'Keputusan', '2018'], ['RUU tentang Perkelapasawitan', '28 Mar 2018', 'DPR', 'Harmonisasi', '2018'], ['RUU tentang Masyarakat Adat', '13 Des 2018', 'DPR', 'Terdaftar', '2018'], ['RUU tentang Peningkatan Pendapatan Asli Daerah', '23 Agust 2022', 'DPR', 'Terdaftar', '2018'], ['RUU tentang Lembaga Pendidikan Keagamaan dan Pesantren', '10 Jul 2019', 'DPR', 'Pembahasan', '2018'], ['RUU Tentang Konsultan Pajak', '09 Okt 2018', 'DPR', 'Pembahasan', '2018'], ['RUU tentang Kitab Undang-Undang Hukum Acara Pidana', '23 Agust 2022', 'DPR', 'Terdaftar', '2018'], ['RUU tentang Penyadapan', '03 Jul 2019', 'DPR', 'Penyusunan', '2018'], ['RUU tentang Perubahan atas Undang-Undang Nomor 20 Tahun 2013 tentang Pendidikan Kedokteran.', '02 Okt 2018', 'DPR', 'Pembahasan', '2018'], ['RUU tentang Pengawasan Obat dan Makanan serta Pemanfaatan Obat Asli Indonesia', '31 Mar 2021', 'DPR', 'Penyusunan', '2018'], ['RUU tentang Kitab Undang - Undang Hukum Pidana', '12 Nop 2019', 'PEMERINTAH', 'Pembahasan', '2018'], ['RUU tentang Perubahan atas Undang - Undang Nomor 20 Tahun 1997 tentang Penerimaan Negara Bukan Pajak', '25 Agust 2016', 'PEMERINTAH', 'Pembahasan', '2018'], ['RUU tentang Perubahan Kelima Atas UU Nomor 6 Tahun 1983 tentang Ketentuan Umum Dan Tata Cara Perpajakan', '05 Jul 2021', 'PEMERINTAH', 'Pembahasan', '2018'], ['RUU tentang Kekarantinaan Kesehatan', '10 Jul 2018', 'PEMERINTAH', 'Terdaftar', '2018'], ['RUU tentang Perubahan atas Undang-Undang Nomor 15 Tahun 2003 tentang Pemberantasan Tindak Pidana Terorisme', '08 Jun 2016', 'PEMERINTAH', 'Pembahasan', '2018'], ['RUU tentang Perubahan atas Undang-Undang Nomor 18 Tahun 2002 tentang Sistem Nasional Penelitian, Pengembangan, dan Penerapan Ilmu Pengetahuan', '17 Okt 2018', 'PEMERINTAH', 'Pembahasan', '2018'], ['RUU tentang Kepalangmerahan', '23 Agust 2022', 'PEMERINTAH', 'Selesai', '2018'], ['RUU tentang Perubahan Kedua atas UU Nomor 24 Tahun 2003 tentang Mahkamah Konstitusi', '23 Okt 2017', 'PEMERINTAH', 'Terdaftar', '2018'], ['RUU tentang Narkotika dan Psikotropika', '08 Mar 2018', 'PEMERINTAH', 'Terdaftar', '2018'], ['RUU tentang Bea Materai', '27 Agust 2021', 'PEMERINTAH', 'Keputusan', '2018'], ['RUU tentang Perubahan atas UU Nomor 15 Tahun 2006 tentang Badan Pemeriksa Keuangan', '25 Jul 2018', 'PEMERINTAH', 'Pembahasan', '2018'], ['RUU tentang Pembatasan Transaksi Penggunaan Uang Kartal', '23 Agust 2022', 'PEMERINTAH', 'Terdaftar', '2018'], ['RUU tentang Perubahan atas Undang- Undang Nomor 33 Tahun 2004 tentang Perimbangan Keuangan antara Pusat dan Daerah', '29 Jun 2021', 'PEMERINTAH', 'Terdaftar', '2018'], ['RUU tentang Perubahan atas Undang-Undang Nomor 1 Tahun 1973 tentang Landas Kontinen Indonesia', '23 Agust 2022', 'PEMERINTAH', 'Terdaftar', '2018'], ['RUU tentang Perubahan atas Undang-Undang Nomor 31 Tahun 2000 tentang Desain Industri', '23 Agust 2022', 'PEMERINTAH', 'Terdaftar', '2018'], ['RUU tentang Perubahan atas Undang-Undang Nomor 12 Tahun 1995 tentang Pemasyarakatan', '17 Sep 2019', 'PEMERINTAH', 'Terdaftar', '2018'], ['RUU tentang Ekonomi Kreatif', '26 Sep 2019', 'DPD', 'Pembahasan', '2018'], ['RUU tentang Wawasan Nusantara', '24 Okt 2016', 'DPD', 'Pembahasan', '2018'], ['RUU tentang Daerah Kepulauan', '15 Jan 2018', 'DPD', 'Terdaftar', '2018'], ['RUU tentang Tabungan Perumahan Rakyat', '23 Feb 2016', 'DPR', 'Selesai', '2016'], ['RUU tentang Larangan Minuman Beralkohol', '19 Okt 2016', 'DPR', 'Pembahasan', '2016'], ['RUU tentang Perlindungan dan Pemberdayaan Nelayan', '03 Mar 2016', 'DPR', 'Selesai', '2016'], ['RUU tentang Jasa Konstruksi', '15 Des 2016', 'DPR', 'Selesai', '2016'], ['RUU tentang Penyandang Disabilitas', '05 Okt 2015', 'DPR', 'Selesai', '2016'], ['RUU tentang Perlindungan Pekerja Indonesia di Luar Negeri', '07 Sep 2015', 'DPR', 'Selesai', '2016'], ['RUU tentang Merek', '27 Okt 2016', 'PEMERINTAH', 'Selesai', '2016'], ['RUU tentang Paten', '28 Jul 2016', 'PEMERINTAH', 'Selesai', '2016'], ['RUU tentang Kitab Undang - Undang Hukum Pidana', '12 Nop 2019', 'PEMERINTAH', 'Pembahasan', '2016'], ['RUU tentang Jaring Pengaman Sistem Keuangan', '17 Mar 2016', 'PEMERINTAH', 'Selesai', '2016'], ['RUU tentang Perubahan atas Undang - Undang Nomor 20 Tahun 1997 tentang Penerimaan Negara Bukan Pajak', '25 Agust 2016', 'PEMERINTAH', 'Pembahasan', '2016'], ['RUU tentang Perubahan atas Undang - Undang Nomor 11 Tahun 2008 tentang Informasi dan Transaksi Elektronik (ITE)', '08 Des 2016', 'PEMERINTAH', 'Selesai', '2016'], ['RUU tentang Kekarantinaan Kesehatan', '10 Jul 2018', 'PEMERINTAH', 'Terdaftar', '2016'], ['RUU tentang Wawasan Nusantara', '24 Okt 2016', 'DPD', 'Pembahasan', '2016'], ['RUU tentang Sistem Perbukuan', '27 Apr 2017', 'DPR', 'Selesai', '2016'], ['RUU tentang Kebudayaan', '27 Apr 2017', 'DPR', 'Selesai', '2016'], ['RUU tentang Perubahan Kelima Atas UU Nomor 6 Tah un 1983 tentang Ketentuan Umum Dan Tata Cara Perpajakan', '05 Jul 2021', 'PEMERINTAH', 'Pembahasan', '2016'], ['RUU tentang Pertembakauan', '08 Jan 2019', 'DPR', 'Pembahasan', '2016'], ['RUU tentang Kewirausahaan Nasional', '24 Okt 2018', 'DPR', 'Pembahasan', '2016'], ['RUU tentang Pertanahan', '09 Sep 2019', 'DPR', 'Pembahasan', '2016'], ['RUU tentang Arsitek', '04 Okt 2016', 'DPR', 'Selesai', '2016'], ['RUU tentang Pengelolaan Ibadah Haji dan Penyelenggaraan Umrah', '28 Mar 2019', 'DPR', 'Pembahasan', '2016'], ['RUU tentang Perubahan atas Undang-Undang Nomor 32 Tahun 2002 tentang Penyiaran', '10 Mar 2020', 'DPR', 'Harmonisasi', '2016'], ['RUU tentang Radio Televisi Republik Indonesia', '07 Feb 2018', 'DPR', 'Penyusunan', '2016'], ['RUU tentang Perubahan atas Undang - Undang Nomor 1 Tahun 2015 tentang Penetapan Peraturan Pemerintah Pengganti UU Nomor 1 Tahun 2014 tentang Pemilihan Gubernur, Bupati, dan Walikota Menjadi UU', '08 Apr 2016', 'DPR', 'Selesai', '2016'], ['RUU tentang Penyelenggaraan Pemilihan Umum', '20 Jul 2017', 'DPR', 'Keputusan', '2016'], ['RUU tentang Jabatan Hakim', '18 Jan 2017', 'DPR', 'Pembahasan', '2016'], ['RUU tentang Perubahan atas Undang-Undang Nomor 16 Tahun 1992 tentang Karantina Hewan, Ikan dan Tumbuhan', '18 Mar 2016', 'DPR', 'Pembahasan', '2016'], ['RUU tentang Perubahan atas UU Nomor 19 Tahun 2003 tentang BUMN', '02 Okt 2018', 'DPR', 'Pembahasan', '2016'], ['RUU tentang Perubahan atas UU Nomor 5 Tahun 1999 tentang Larangan Praktik Monopoli dan Persaingan Usaha Tidak Sehat', '26 Jul 2017', 'DPR', 'Pembahasan', '2016'], ['RUU tentang Perubahan atas UU Nomor 22 Tahun 2001 tentang Minyak dan Gas Bumi', '10 Sep 2018', 'DPR', 'Pembahasan', '2016'], ['RUU tentang Perubahan atas Undang - Undang Nomor 4 Tahun 2009 tentang Pertambangan Mineral dan Batubara', '27 Agust 2021', 'DPR', 'Pembahasan', '2016'], ['RUU tentang Kebidanan', '13 Feb 2019', 'DPR', 'Keputusan', '2016'], ['RUU tentang Perubahan Kedua atas Undang - Undang Nomor 7 Tahun 1992 tentang Perbankan', '23 Agust 2022', 'DPR', 'Penyusunan', '2016'], ['RUU tentang Peningkatan Pendapatan Asli Daerah', '23 Agust 2022', 'DPR', 'Terdaftar', '2016'], ['RUU tentang Pengampunan Pajak', '28 Jun 2016', 'PEMERINTAH', 'Selesai', '2016'], ['RUU tentang Perubahan atas Undang-Undang Nomor 15 Tahun 2003 tentang Pemberantasan Tindak Pidana Terorisme', '08 Jun 2016', 'PEMERINTAH', 'Pembahasan', '2016'], ['RUU tentang Perubahan atas Undang-Undang Nomor 18 Tahun 2002 tentang Sistem Nasional Penelitian, Pengembangan, dan Penerapan Ilmu Pengetahuan', '17 Okt 2018', 'PEMERINTAH', 'Pembahasan', '2016'], ['RUU tentang Ekonomi Kreatif', '26 Sep 2019', 'DPD', 'Pembahasan', '2016'], ['RUU tentang Penghapusan Kekerasan Seksual', '18 Jan 2022', 'DPR', 'Pembahasan', '2016'], ['RUU tentang Perubahan Atas Undang-Undang Nomor 5 Tahun 2014 tentang Aparatur Sipil Negara', '06 Des 2018', 'DPR', 'Pembahasan', '2016'], ['RUU tentang Perkelapasawitan', '28 Mar 2018', 'DPR', 'Harmonisasi', '2016'], ['RUU tentang Perubahan Kedua atas UU Nomor 23 Tahun 1999 Tentang Bank Indonesia', '18 Nop 2015', 'DPR', 'Penyusunan', '2016'], ['RUU tentang Perubahan atas UU No 21 Th 2011 tentang Otoritas Jasa Keuangan', '23 Agust 2022', 'DPR', 'Terdaftar', '2016'], ['RUU tentang Bea Materai', '27 Agust 2021', 'PEMERINTAH', 'Keputusan', '2016'], ['RUU tentang Perubahan atas UU Nomor 15 Tahun 2006 tentang Badan Pemeriksa Keuangan', '25 Jul 2018', 'PEMERINTAH', 'Pembahasan', '2016'], ['RUU tentang Perubahan Kedua atas UU Nomor 24 Tahun 2003 tentang Mahkamah Konstitusi', '23 Okt 2017', 'PEMERINTAH', 'Terdaftar', '2016'], ['RUU tentang Narkotika dan Psikotropika', '08 Mar 2018', 'PEMERINTAH', 'Terdaftar', '2016'], ['RUU tentang Kepalangmerahan', '23 Agust 2022', 'PEMERINTAH', 'Selesai', '2016'], ['RUU tentang Susunan dan Kedudukan MPR, DPR dan DPD', '07 Feb 2018', 'DPR', 'Terdaftar', '2016'], ['RUU tentang Kekarantinaan Kesehatan', '10 Jul 2018', 'PEMERINTAH', 'Terdaftar', '2017'], ['RUU tentang Pertanahan', '09 Sep 2019', 'DPR', 'Pembahasan', '2017'], ['RUU tentang Kitab Undang - Undang Hukum Pidana', '12 Nop 2019', 'PEMERINTAH', 'Pembahasan', '2017'], ['RUU tentang Perubahan atas Undang-Undang Nomor 16 Tahun 1992 tentang Karantina Hewan, Ikan dan Tumbuhan', '18 Mar 2016', 'DPR', 'Pembahasan', '2017'], ['RUU tentang Arsitek', '04 Okt 2016', 'DPR', 'Selesai', '2017'], ['RUU tentang Kewirausahaan Nasional', '24 Okt 2018', 'DPR', 'Pembahasan', '2017'], ['RUU tentang Pengelolaan Ibadah Haji dan Penyelenggaraan Umrah', '28 Mar 2019', 'DPR', 'Pembahasan', '2017'], ['RUU tentang Perlindungan Pekerja Indonesia di Luar Negeri', '07 Sep 2015', 'DPR', 'Selesai', '2017'], ['RUU tentang Sistem Perbukuan', '27 Apr 2017', 'DPR', 'Selesai', '2017'], ['RUU tentang Kebudayaan', '27 Apr 2017', 'DPR', 'Selesai', '2017'], ['RUU tentang Ekonomi Kreatif', '26 Sep 2019', 'DPD', 'Pembahasan', '2017'], ['RUU tentang Perubahan atas Undang - Undang Nomor 20 Tahun 1997 tentang Penerimaan Negara Bukan Pajak', '25 Agust 2016', 'PEMERINTAH', 'Pembahasan', '2017'], ['RUU tentang Perubahan Kelima Atas UU Nomor 6 Tah un 1983 tentang Ketentuan Umum Dan Tata Cara Perpajakan', '05 Jul 2021', 'PEMERINTAH', 'Pembahasan', '2017'], ['RUU tentang Larangan Minuman Beralkohol', '19 Okt 2016', 'DPR', 'Pembahasan', '2017'], ['RUU tentang Wawasan Nusantara', '24 Okt 2016', 'DPD', 'Pembahasan', '2017'], ['RUU tentang Perubahan atas Undang-Undang Nomor 15 Tahun 2003 tentang Pemberantasan Tindak Pidana Terorisme', '08 Jun 2016', 'PEMERINTAH', 'Pembahasan', '2017'], ['RUU tentang Penyelenggaraan Pemilihan Umum', '20 Jul 2017', 'DPR', 'Keputusan', '2017'], ['RUU tentang Kepalangmerahan', '23 Agust 2022', 'PEMERINTAH', 'Selesai', '2017'], ['RUU tentang Jabatan Hakim', '18 Jan 2017', 'DPR', 'Pembahasan', '2017'], ['RUU tentang Pertembakauan', '08 Jan 2019', 'DPR', 'Pembahasan', '2017'], ['RUU tentang Perubahan atas UU Nomor 5 Tahun 1999 tentang Larangan Praktik Monopoli dan Persaingan Usaha Tidak Sehat', '26 Jul 2017', 'DPR', 'Pembahasan', '2017'], ['RUU tentang Perubahan Atas Undang-Undang Nomor 5 Tahun 2014 tentang Aparatur Sipil Negara', '06 Des 2018', 'DPR', 'Pembahasan', '2017'], ['RUU tentang Penghapusan Kekerasan Seksual', '18 Jan 2022', 'DPR', 'Pembahasan', '2017'], ['RUU tentang Perkelapasawitan', '28 Mar 2018', 'DPR', 'Harmonisasi', '2017'], ['RUU tentang Perubahan atas Undang-Undang Nomor 32 Tahun 2002 tentang Penyiaran', '10 Mar 2020', 'DPR', 'Harmonisasi', '2017'], ['RUU tentang Radio Televisi Republik Indonesia', '07 Feb 2018', 'DPR', 'Penyusunan', '2017'], ['RUU tentang Perubahan atas UU Nomor 19 Tahun 2003 tentang BUMN', '02 Okt 2018', 'DPR', 'Pembahasan', '2017'], ['RUU tentang Perubahan atas UU Nomor 22 Tahun 2001 tentang Minyak dan Gas Bumi', '10 Sep 2018', 'DPR', 'Pembahasan', '2017'], ['RUU tentang Perubahan atas Undang - Undang Nomor 4 Tahun 2009 tentang Pertambangan Mineral dan Batubara', '27 Agust 2021', 'DPR', 'Pembahasan', '2017'], ['RUU tentang Kebidanan', '13 Feb 2019', 'DPR', 'Keputusan', '2017'], ['RUU tentang Perubahan Kedua atas Undang - Undang Nomor 7 Tahun 1992 tentang Perbankan', '23 Agust 2022', 'DPR', 'Penyusunan', '2017'], ['RUU tentang Perubahan Kedua atas UU Nomor 23 Tahun 1999 Tentang Bank Indonesia', '18 Nop 2015', 'DPR', 'Penyusunan', '2017'], ['RUU tentang Perubahan atas UU No 21 Th 2011 tentang Otoritas Jasa Keuangan', '23 Agust 2022', 'DPR', 'Terdaftar', '2017'], ['RUU tentang Peningkatan Pendapatan Asli Daerah', '23 Agust 2022', 'DPR', 'Terdaftar', '2017'], ['RUU tentang Sistem Nasional Ilmu Pengetahuan dan Teknologi', '17 Okt 2018', 'PEMERINTAH', 'Pembahasan', '2017'], ['RUU tentang Bea Materai', '27 Agust 2021', 'PEMERINTAH', 'Keputusan', '2017'], ['RUU tentang Perubahan atas UU Nomor 15 Tahun 2006 tentang Badan Pemeriksa Keuangan', '25 Jul 2018', 'PEMERINTAH', 'Pembahasan', '2017'], ['RUU tentang Narkotika dan Psikotropika', '08 Mar 2018', 'PEMERINTAH', 'Terdaftar', '2017'], ['RUU tentang Perubahan Kedua atas UU Nomor 24 Tahun 2003 tentang Mahkamah Konstitusi', '23 Okt 2017', 'PEMERINTAH', 'Terdaftar', '2017'], ['RUU tentang Perubahan atas Undang-Undang Nomor 12 Tahun 1992 tentang Sistem Budidaya Tanaman', '25 Apr 2018', 'DPR', 'Penyusunan', '2017'], ['RUU tentang Praktik Pekerjaan Sosial', '29 Agust 2019', 'DPR', 'Pembahasan', '2017'], ['RUU tentang Perubahan atas Undang-Undang Nomor 5 Tahun 1990 tentang Konservasi Sumber Daya alam Hayati dan Ekosistemnya', '02 Apr 2018', 'DPR', 'Harmonisasi', '2017'], ['RUU tentang Lembaga Pendidikan Keagamaan dan Pesantren', '10 Jul 2019', 'DPR', 'Pembahasan', '2017'], ['RUU tentang Perlindungan dan Pengakuan Hak Masyarakat Adat', '13 Des 2018', 'DPR', 'Terdaftar', '2017'], ['RUU tentang Perubahan atas Undang- Undang Nomor 33 Tahun 2004 tentang Perimbangan Keuangan antara Pusat dan Daerah', '29 Jun 2021', 'PEMERINTAH', 'Terdaftar', '2017'], ['RUU tentang Perubahan atas Undang-Undang Nomor 12 Tahun 1995 tentang Pemasyarakatan', '17 Sep 2019', 'PEMERINTAH', 'Terdaftar', '2017'], ['RUU tentang Pembatasan Transaksi Penggunaan Uang Kartal', '23 Agust 2022', 'PEMERINTAH', 'Terdaftar', '2017'], ['RUU tentang Penyelenggaraan Pemerintah di Wilayah Kepulauan', '15 Jan 2018', 'DPD', 'Terdaftar', '2017'], ['RUU tentang Perubahan Kedua atas Undang-Undang Nomor 17 Tahun 2014 tentang Majelis Permusyawaratan Rakyat, Dewan Perwakilan Rakyat, Dewan Perwakilan Daerah, dan Dewan Perwakilan Rakyat Daerah', '07 Feb 2018', 'DPR', 'Terdaftar', '2017'], ['RUU tentang Serah Simpan Karya Cetak, Karya Rekam, dan Karya Elektronik', '06 Mar 2018', 'DPR', 'Keputusan', '2017'], ['RUU Tentang Konsultan Pajak', '09 Okt 2018', 'DPR', 'Pembahasan', '2017']]\n",
     "output_type": "stream"
    }
   ]
  },
  {
   "cell_type": "code",
   "metadata": {
    "tags": [],
    "deepnote_to_be_reexecuted": false,
    "source_hash": "be961c6a",
    "execution_start": 1661556176225,
    "execution_millis": 97,
    "deepnote_table_state": {
     "pageSize": 10,
     "pageIndex": 0,
     "filters": [],
     "sortBy": [
      {
       "id": "Tahun Prioritas",
       "type": "desc"
      }
     ]
    },
    "deepnote_table_loading": false,
    "cell_id": "00011-ecc8054f-892b-4575-a3e9-565f024038f7",
    "deepnote_cell_type": "code",
    "deepnote_cell_height": 445
   },
   "source": "df2019_prioritas_raw = pd.DataFrame(prioritas2019, columns=['Judul Ruu', 'Tanggal Diupdate', 'Pengusul', 'Status', 'Tahun Prioritas'])\ndf2019_prioritas_raw.head()",
   "execution_count": 5,
   "outputs": [
    {
     "output_type": "execute_result",
     "execution_count": 5,
     "data": {
      "application/vnd.deepnote.dataframe.v3+json": {
       "column_count": 5,
       "row_count": 5,
       "columns": [
        {
         "name": "Judul Ruu",
         "dtype": "object",
         "stats": {
          "unique_count": 5,
          "nan_count": 0,
          "categories": [
           {
            "name": "RUU tentang Perubahan atas Undang-Undang Nomor 32 Tahun 2002 tentang Penyiaran",
            "count": 1
           },
           {
            "name": "RUU tentang Radio Televisi Republik Indonesia",
            "count": 1
           },
           {
            "name": "3 others",
            "count": 3
           }
          ]
         }
        },
        {
         "name": "Tanggal Diupdate",
         "dtype": "object",
         "stats": {
          "unique_count": 5,
          "nan_count": 0,
          "categories": [
           {
            "name": "10 Mar 2020",
            "count": 1
           },
           {
            "name": "07 Feb 2018",
            "count": 1
           },
           {
            "name": "3 others",
            "count": 3
           }
          ]
         }
        },
        {
         "name": "Pengusul",
         "dtype": "object",
         "stats": {
          "unique_count": 3,
          "nan_count": 0,
          "categories": [
           {
            "name": "DPR",
            "count": 3
           },
           {
            "name": "PEMERINTAH",
            "count": 1
           },
           {
            "name": "DPD",
            "count": 1
           }
          ]
         }
        },
        {
         "name": "Status",
         "dtype": "object",
         "stats": {
          "unique_count": 4,
          "nan_count": 0,
          "categories": [
           {
            "name": "Pembahasan",
            "count": 2
           },
           {
            "name": "Harmonisasi",
            "count": 1
           },
           {
            "name": "2 others",
            "count": 2
           }
          ]
         }
        },
        {
         "name": "Tahun Prioritas",
         "dtype": "object",
         "stats": {
          "unique_count": 1,
          "nan_count": 0,
          "categories": [
           {
            "name": "2015",
            "count": 5
           }
          ]
         }
        },
        {
         "name": "_deepnote_index_column",
         "dtype": "int64"
        }
       ],
       "rows": [
        {
         "Judul Ruu": "RUU tentang Perubahan atas Undang-Undang Nomor 32 Tahun 2002 tentang Penyiaran",
         "Tanggal Diupdate": "10 Mar 2020",
         "Pengusul": "DPR",
         "Status": "Harmonisasi",
         "Tahun Prioritas": "2015",
         "_deepnote_index_column": 0
        },
        {
         "Judul Ruu": "RUU tentang Radio Televisi Republik Indonesia",
         "Tanggal Diupdate": "07 Feb 2018",
         "Pengusul": "DPR",
         "Status": "Penyusunan",
         "Tahun Prioritas": "2015",
         "_deepnote_index_column": 1
        },
        {
         "Judul Ruu": "RUU tentang Perubahan atas Undang - Undang Nomor 11 Tahun 2008 tentang Informasi dan Transaksi Elektronik (ITE)",
         "Tanggal Diupdate": "08 Des 2016",
         "Pengusul": "PEMERINTAH",
         "Status": "Selesai",
         "Tahun Prioritas": "2015",
         "_deepnote_index_column": 2
        },
        {
         "Judul Ruu": "RUU tentang Wawasan Nusantara",
         "Tanggal Diupdate": "24 Okt 2016",
         "Pengusul": "DPD",
         "Status": "Pembahasan",
         "Tahun Prioritas": "2015",
         "_deepnote_index_column": 3
        },
        {
         "Judul Ruu": "RUU tentang Pertanahan",
         "Tanggal Diupdate": "09 Sep 2019",
         "Pengusul": "DPR",
         "Status": "Pembahasan",
         "Tahun Prioritas": "2015",
         "_deepnote_index_column": 4
        }
       ]
      },
      "text/plain": "                                           Judul Ruu Tanggal Diupdate  \\\n0  RUU tentang Perubahan atas Undang-Undang Nomor...      10 Mar 2020   \n1      RUU tentang Radio Televisi Republik Indonesia      07 Feb 2018   \n2  RUU tentang Perubahan atas Undang - Undang Nom...      08 Des 2016   \n3                      RUU tentang Wawasan Nusantara      24 Okt 2016   \n4                             RUU tentang Pertanahan      09 Sep 2019   \n\n     Pengusul       Status Tahun Prioritas  \n0         DPR  Harmonisasi            2015  \n1         DPR   Penyusunan            2015  \n2  PEMERINTAH      Selesai            2015  \n3         DPD   Pembahasan            2015  \n4         DPR   Pembahasan            2015  ",
      "text/html": "<div>\n<style scoped>\n    .dataframe tbody tr th:only-of-type {\n        vertical-align: middle;\n    }\n\n    .dataframe tbody tr th {\n        vertical-align: top;\n    }\n\n    .dataframe thead th {\n        text-align: right;\n    }\n</style>\n<table border=\"1\" class=\"dataframe\">\n  <thead>\n    <tr style=\"text-align: right;\">\n      <th></th>\n      <th>Judul Ruu</th>\n      <th>Tanggal Diupdate</th>\n      <th>Pengusul</th>\n      <th>Status</th>\n      <th>Tahun Prioritas</th>\n    </tr>\n  </thead>\n  <tbody>\n    <tr>\n      <th>0</th>\n      <td>RUU tentang Perubahan atas Undang-Undang Nomor...</td>\n      <td>10 Mar 2020</td>\n      <td>DPR</td>\n      <td>Harmonisasi</td>\n      <td>2015</td>\n    </tr>\n    <tr>\n      <th>1</th>\n      <td>RUU tentang Radio Televisi Republik Indonesia</td>\n      <td>07 Feb 2018</td>\n      <td>DPR</td>\n      <td>Penyusunan</td>\n      <td>2015</td>\n    </tr>\n    <tr>\n      <th>2</th>\n      <td>RUU tentang Perubahan atas Undang - Undang Nom...</td>\n      <td>08 Des 2016</td>\n      <td>PEMERINTAH</td>\n      <td>Selesai</td>\n      <td>2015</td>\n    </tr>\n    <tr>\n      <th>3</th>\n      <td>RUU tentang Wawasan Nusantara</td>\n      <td>24 Okt 2016</td>\n      <td>DPD</td>\n      <td>Pembahasan</td>\n      <td>2015</td>\n    </tr>\n    <tr>\n      <th>4</th>\n      <td>RUU tentang Pertanahan</td>\n      <td>09 Sep 2019</td>\n      <td>DPR</td>\n      <td>Pembahasan</td>\n      <td>2015</td>\n    </tr>\n  </tbody>\n</table>\n</div>"
     },
     "metadata": {}
    }
   ]
  },
  {
   "cell_type": "code",
   "metadata": {
    "tags": [],
    "deepnote_to_be_reexecuted": false,
    "source_hash": "637deea6",
    "execution_start": 1661556176324,
    "execution_millis": 7,
    "cell_id": "00012-d7479659-b5d8-457d-b984-9311c13f1180",
    "deepnote_cell_type": "code",
    "deepnote_cell_height": 179.1875
   },
   "source": "#remove duplicate\ndf2019_prioritas = df2019_prioritas_raw.copy()\ndf2019_prioritas = df2019_prioritas.sort_values('Tahun Prioritas', ascending=False)\ndf2019_prioritas = df2019_prioritas.drop_duplicates(subset='Judul Ruu', keep='first')\nprint(len(df2019_prioritas))",
   "execution_count": 6,
   "outputs": [
    {
     "name": "stdout",
     "text": "103\n",
     "output_type": "stream"
    }
   ]
  },
  {
   "cell_type": "code",
   "metadata": {
    "tags": [],
    "deepnote_to_be_reexecuted": false,
    "source_hash": "8de014e2",
    "execution_start": 1661556176337,
    "execution_millis": 81,
    "deepnote_table_state": {
     "pageSize": 10,
     "pageIndex": 0,
     "filters": [],
     "sortBy": [
      {
       "id": "Judul Ruu",
       "type": "asc"
      }
     ]
    },
    "deepnote_table_loading": false,
    "cell_id": "00013-24d1fdb8-0177-41dc-80af-38393a3a3c70",
    "deepnote_cell_type": "code",
    "deepnote_cell_height": 650
   },
   "source": "df2024_prioritas_raw = pd.DataFrame(prioritas2024, columns=['Judul Ruu', 'Tanggal Diupdate', 'Pengusul', 'Status', 'Tahun Prioritas'])\ndf2024_prioritas_raw",
   "execution_count": 7,
   "outputs": [
    {
     "output_type": "execute_result",
     "execution_count": 7,
     "data": {
      "application/vnd.deepnote.dataframe.v3+json": {
       "column_count": 5,
       "row_count": 114,
       "columns": [
        {
         "name": "Judul Ruu",
         "dtype": "object",
         "stats": {
          "unique_count": 66,
          "nan_count": 0,
          "categories": [
           {
            "name": "RUU tentang Daerah Kepulauan",
            "count": 3
           },
           {
            "name": "RUU tentang Energi Baru dan Terbarukan",
            "count": 3
           },
           {
            "name": "64 others",
            "count": 108
           }
          ]
         }
        },
        {
         "name": "Tanggal Diupdate",
         "dtype": "object",
         "stats": {
          "unique_count": 33,
          "nan_count": 0,
          "categories": [
           {
            "name": "23 Agust 2022",
            "count": 29
           },
           {
            "name": "17 Des 2021",
            "count": 7
           },
           {
            "name": "31 others",
            "count": 78
           }
          ]
         }
        },
        {
         "name": "Pengusul",
         "dtype": "object",
         "stats": {
          "unique_count": 4,
          "nan_count": 0,
          "categories": [
           {
            "name": "DPR",
            "count": 65
           },
           {
            "name": "PEMERINTAH",
            "count": 33
           },
           {
            "name": "2 others",
            "count": 16
           }
          ]
         }
        },
        {
         "name": "Status",
         "dtype": "object",
         "stats": {
          "unique_count": 6,
          "nan_count": 0,
          "categories": [
           {
            "name": "Pembahasan",
            "count": 33
           },
           {
            "name": "Selesai",
            "count": 30
           },
           {
            "name": "4 others",
            "count": 51
           }
          ]
         }
        },
        {
         "name": "Tahun Prioritas",
         "dtype": "object",
         "stats": {
          "unique_count": 3,
          "nan_count": 0,
          "categories": [
           {
            "name": "2022",
            "count": 40
           },
           {
            "name": "2021",
            "count": 37
           },
           {
            "name": "2020",
            "count": 37
           }
          ]
         }
        },
        {
         "name": "_deepnote_index_column",
         "dtype": "int64"
        }
       ],
       "rows": [
        {
         "Judul Ruu": "RUU tentang Badan Pembinaan Ideologi Pancasila",
         "Tanggal Diupdate": "12 Mei 2020",
         "Pengusul": "PEMERINTAH",
         "Status": "Penetapan Usul",
         "Tahun Prioritas": "2022",
         "_deepnote_index_column": 110
        },
        {
         "Judul Ruu": "RUU tentang Badan Pembinaan Ideologi Pancasila",
         "Tanggal Diupdate": "12 Mei 2020",
         "Pengusul": "PEMERINTAH",
         "Status": "Penetapan Usul",
         "Tahun Prioritas": "2021",
         "_deepnote_index_column": 58
        },
        {
         "Judul Ruu": "RUU tentang Badan Usaha Milik Desa",
         "Tanggal Diupdate": "27 Jan 2022",
         "Pengusul": "DPD",
         "Status": "Pembahasan",
         "Tahun Prioritas": "2022",
         "_deepnote_index_column": 113
        },
        {
         "Judul Ruu": "RUU tentang Badan Usaha Milik Desa",
         "Tanggal Diupdate": "27 Jan 2022",
         "Pengusul": "DPD",
         "Status": "Pembahasan",
         "Tahun Prioritas": "2021",
         "_deepnote_index_column": 69
        },
        {
         "Judul Ruu": "RUU tentang Bahan Kimia",
         "Tanggal Diupdate": "23 Agust 2022",
         "Pengusul": "DPR",
         "Status": "Terdaftar",
         "Tahun Prioritas": "2022",
         "_deepnote_index_column": 93
        },
        {
         "Judul Ruu": "RUU tentang Cipta Lapangan Kerja (Omnibus Law)",
         "Tanggal Diupdate": "05 Okt 2020",
         "Pengusul": "PEMERINTAH",
         "Status": "Selesai",
         "Tahun Prioritas": "2020",
         "_deepnote_index_column": 25
        },
        {
         "Judul Ruu": "RUU tentang Daerah Kepulauan",
         "Tanggal Diupdate": "23 Agust 2022",
         "Pengusul": "DPD",
         "Status": "Pembahasan",
         "Tahun Prioritas": "2022",
         "_deepnote_index_column": 112
        },
        {
         "Judul Ruu": "RUU tentang Daerah Kepulauan",
         "Tanggal Diupdate": "23 Agust 2022",
         "Pengusul": "DPD",
         "Status": "Pembahasan",
         "Tahun Prioritas": "2021",
         "_deepnote_index_column": 68
        },
        {
         "Judul Ruu": "RUU tentang Daerah Kepulauan",
         "Tanggal Diupdate": "23 Agust 2022",
         "Pengusul": "DPD",
         "Status": "Pembahasan",
         "Tahun Prioritas": "2020",
         "_deepnote_index_column": 36
        },
        {
         "Judul Ruu": "RUU tentang Desain Industri",
         "Tanggal Diupdate": "23 Agust 2022",
         "Pengusul": "PEMERINTAH",
         "Status": "Terdaftar",
         "Tahun Prioritas": "2022",
         "_deepnote_index_column": 111
        }
       ]
      },
      "text/plain": "                                             Judul Ruu Tanggal Diupdate  \\\n0    RUUtentang Perubahan atas Undang-Undang Nomor ...      20 Jan 2021   \n1         RUU tentang Kitab Undang-Undang Hukum Pidana      06 Jul 2022   \n2    RUU tentang Perubahan atas Undang-Undang Nomor...      07 Jul 2022   \n3                            RUU tentang Jabatan Hakim    23 Agust 2022   \n4    RUU tentang Perubahan atas Undang-Undang Nomor...      07 Des 2021   \n..                                                 ...              ...   \n109                                  RUU tentang Wabah    23 Agust 2022   \n110     RUU tentang Badan Pembinaan Ideologi Pancasila      12 Mei 2020   \n111                        RUU tentang Desain Industri    23 Agust 2022   \n112                       RUU tentang Daerah Kepulauan    23 Agust 2022   \n113                 RUU tentang Badan Usaha Milik Desa      27 Jan 2022   \n\n            Pengusul          Status Tahun Prioritas  \n0                DPR     Harmonisasi            2020  \n1    DPR, PEMERINTAH      Pembahasan            2020  \n2    DPR, PEMERINTAH      Pembahasan            2020  \n3                DPR       Terdaftar            2020  \n4    DPR, PEMERINTAH         Selesai            2020  \n..               ...             ...             ...  \n109       PEMERINTAH       Terdaftar            2022  \n110       PEMERINTAH  Penetapan Usul            2022  \n111       PEMERINTAH       Terdaftar            2022  \n112              DPD      Pembahasan            2022  \n113              DPD      Pembahasan            2022  \n\n[114 rows x 5 columns]",
      "text/html": "<div>\n<style scoped>\n    .dataframe tbody tr th:only-of-type {\n        vertical-align: middle;\n    }\n\n    .dataframe tbody tr th {\n        vertical-align: top;\n    }\n\n    .dataframe thead th {\n        text-align: right;\n    }\n</style>\n<table border=\"1\" class=\"dataframe\">\n  <thead>\n    <tr style=\"text-align: right;\">\n      <th></th>\n      <th>Judul Ruu</th>\n      <th>Tanggal Diupdate</th>\n      <th>Pengusul</th>\n      <th>Status</th>\n      <th>Tahun Prioritas</th>\n    </tr>\n  </thead>\n  <tbody>\n    <tr>\n      <th>0</th>\n      <td>RUUtentang Perubahan atas Undang-Undang Nomor ...</td>\n      <td>20 Jan 2021</td>\n      <td>DPR</td>\n      <td>Harmonisasi</td>\n      <td>2020</td>\n    </tr>\n    <tr>\n      <th>1</th>\n      <td>RUU tentang Kitab Undang-Undang Hukum Pidana</td>\n      <td>06 Jul 2022</td>\n      <td>DPR, PEMERINTAH</td>\n      <td>Pembahasan</td>\n      <td>2020</td>\n    </tr>\n    <tr>\n      <th>2</th>\n      <td>RUU tentang Perubahan atas Undang-Undang Nomor...</td>\n      <td>07 Jul 2022</td>\n      <td>DPR, PEMERINTAH</td>\n      <td>Pembahasan</td>\n      <td>2020</td>\n    </tr>\n    <tr>\n      <th>3</th>\n      <td>RUU tentang Jabatan Hakim</td>\n      <td>23 Agust 2022</td>\n      <td>DPR</td>\n      <td>Terdaftar</td>\n      <td>2020</td>\n    </tr>\n    <tr>\n      <th>4</th>\n      <td>RUU tentang Perubahan atas Undang-Undang Nomor...</td>\n      <td>07 Des 2021</td>\n      <td>DPR, PEMERINTAH</td>\n      <td>Selesai</td>\n      <td>2020</td>\n    </tr>\n    <tr>\n      <th>...</th>\n      <td>...</td>\n      <td>...</td>\n      <td>...</td>\n      <td>...</td>\n      <td>...</td>\n    </tr>\n    <tr>\n      <th>109</th>\n      <td>RUU tentang Wabah</td>\n      <td>23 Agust 2022</td>\n      <td>PEMERINTAH</td>\n      <td>Terdaftar</td>\n      <td>2022</td>\n    </tr>\n    <tr>\n      <th>110</th>\n      <td>RUU tentang Badan Pembinaan Ideologi Pancasila</td>\n      <td>12 Mei 2020</td>\n      <td>PEMERINTAH</td>\n      <td>Penetapan Usul</td>\n      <td>2022</td>\n    </tr>\n    <tr>\n      <th>111</th>\n      <td>RUU tentang Desain Industri</td>\n      <td>23 Agust 2022</td>\n      <td>PEMERINTAH</td>\n      <td>Terdaftar</td>\n      <td>2022</td>\n    </tr>\n    <tr>\n      <th>112</th>\n      <td>RUU tentang Daerah Kepulauan</td>\n      <td>23 Agust 2022</td>\n      <td>DPD</td>\n      <td>Pembahasan</td>\n      <td>2022</td>\n    </tr>\n    <tr>\n      <th>113</th>\n      <td>RUU tentang Badan Usaha Milik Desa</td>\n      <td>27 Jan 2022</td>\n      <td>DPD</td>\n      <td>Pembahasan</td>\n      <td>2022</td>\n    </tr>\n  </tbody>\n</table>\n<p>114 rows × 5 columns</p>\n</div>"
     },
     "metadata": {}
    }
   ]
  },
  {
   "cell_type": "code",
   "metadata": {
    "tags": [],
    "deepnote_to_be_reexecuted": false,
    "source_hash": "221f08e1",
    "execution_start": 1661556176426,
    "execution_millis": 14,
    "cell_id": "00014-11f37603-379b-433f-89a4-028a535e34bf",
    "deepnote_cell_type": "code",
    "deepnote_cell_height": 179.1875
   },
   "source": "#remove duplicate\ndf2024_prioritas = df2024_prioritas_raw.copy()\ndf2024_prioritas = df2024_prioritas.sort_values('Tahun Prioritas', ascending=False)\ndf2024_prioritas = df2024_prioritas.drop_duplicates(subset='Judul Ruu', keep='first')\nprint(len(df2024_prioritas))",
   "execution_count": 8,
   "outputs": [
    {
     "name": "stdout",
     "text": "66\n",
     "output_type": "stream"
    }
   ]
  },
  {
   "cell_type": "markdown",
   "source": "## Prolegnas Scrapping",
   "metadata": {
    "formattedRanges": [],
    "is_collapsed": false,
    "tags": [],
    "cell_id": "00015-aabd0c7a-3be6-4dcb-b511-ad0736b23abf",
    "deepnote_cell_type": "text-cell-h2"
   }
  },
  {
   "cell_type": "code",
   "metadata": {
    "tags": [],
    "deepnote_to_be_reexecuted": false,
    "source_hash": "faaf3314",
    "execution_start": 1661556176448,
    "execution_millis": 5,
    "cell_id": "00016-5a016424-f671-4279-910e-afd8fea94e11",
    "deepnote_cell_type": "code",
    "deepnote_cell_height": 189
   },
   "source": "def connectDPR(url):\n    headers = {\n        'user-agent' : 'Mozilla/5.0 (Windows NT 10.0; Win64; x64) AppleWebKit/537.36 (KHTML, like Gecko) Chrome/104.0.0.0 Safari/537.36'\n    }\n    req = requests.get(url, headers=headers)\n    print(req)\n    return BeautifulSoup(req.text, 'html.parser')",
   "execution_count": 9,
   "outputs": []
  },
  {
   "cell_type": "markdown",
   "source": "### Test",
   "metadata": {
    "formattedRanges": [],
    "is_collapsed": false,
    "tags": [],
    "cell_id": "00017-7163024e-0374-410f-815d-f09977425d4b",
    "deepnote_cell_type": "text-cell-h3"
   }
  },
  {
   "cell_type": "code",
   "metadata": {
    "tags": [],
    "deepnote_to_be_reexecuted": false,
    "source_hash": "ed6811",
    "execution_start": 1661556176462,
    "execution_millis": 2719,
    "cell_id": "00018-b7a1f914-e52c-4617-93c5-cc260460cb6b",
    "deepnote_cell_type": "code"
   },
   "source": "soup = connectDPR('https://www.dpr.go.id/uu/detail/id/239')\nhead = soup.find('div', {'class':'card-body'})\n\nname = head.find('h3', {'class':'title-detail'}).text\ndate = head.find('li').text[17:]\nsponsor = head.find('span', {'class':'label label-dpr'}).text\n\nprint(name, date, sponsor)",
   "execution_count": 10,
   "outputs": [
    {
     "name": "stdout",
     "text": "<Response [200]>\nRUU tentang Perubahan atas Undang-Undang Nomor 32 Tahun 2002 tentang Penyiaran 17 Desember 2019 DPR\n",
     "output_type": "stream"
    }
   ]
  },
  {
   "cell_type": "markdown",
   "source": "### Create a dataframe of prolegnas from main page",
   "metadata": {
    "formattedRanges": [],
    "is_collapsed": false,
    "tags": [],
    "cell_id": "00019-2ab6dec9-ebdf-4649-81e3-085ba15b00b8",
    "deepnote_cell_type": "text-cell-h3"
   }
  },
  {
   "cell_type": "code",
   "metadata": {
    "tags": [],
    "deepnote_to_be_reexecuted": false,
    "source_hash": "47ae7d3d",
    "execution_start": 1661556179227,
    "execution_millis": 2096,
    "cell_id": "00020-9c18efc5-dd8a-450e-a38b-65f5ea870601",
    "deepnote_cell_type": "code"
   },
   "source": "url24 = 'https://www.dpr.go.id/uu/prolegnas-long-list'\nsoup = connectDPR(url24)\nhead = soup.find('tbody')\nitems = head.find_all('tr', 'role' == 'row')",
   "execution_count": 11,
   "outputs": [
    {
     "name": "stdout",
     "text": "<Response [200]>\n",
     "output_type": "stream"
    }
   ]
  },
  {
   "cell_type": "code",
   "metadata": {
    "tags": [],
    "deepnote_to_be_reexecuted": false,
    "source_hash": "b6b5ec2c",
    "execution_start": 1661556181324,
    "execution_millis": 6,
    "cell_id": "00021-383b02fd-b4ad-4b11-9d76-ebcb65263474",
    "deepnote_cell_type": "code"
   },
   "source": "prioritas2024_list = df2024_prioritas['Judul Ruu'].tolist()\nprioritas2019_list = df2019_prioritas['Judul Ruu'].tolist()\nprint('RUU tentang Jabatan Hakim' in prioritas2024_list)",
   "execution_count": 12,
   "outputs": [
    {
     "name": "stdout",
     "text": "True\n",
     "output_type": "stream"
    }
   ]
  },
  {
   "cell_type": "code",
   "metadata": {
    "tags": [],
    "deepnote_to_be_reexecuted": false,
    "source_hash": "b1dcc6b4",
    "execution_start": 1661556181339,
    "execution_millis": 29,
    "cell_id": "00022-4423d2c2-39f7-4f4e-8543-c304b3be3221",
    "deepnote_cell_type": "code"
   },
   "source": "data2024 = []\ndata2019 = []\nfor item in items:\n    name = item.find('a').text.strip()\n    info = item.find_all('td')\n    date = info[4].text.strip()\n    sponsor = info[9].text.strip()\n    status = info[5].text.strip()\n    print(name)\n    print(status)\n    category = info[7].text.strip()\n    prioritas = 'Tidak'\n    if category == 'Prolegnas 2015-2019':\n        if name in prioritas2019_list:\n            prioritas = 'Ya'\n        data = [name, date, sponsor, status, prioritas]\n        data2019.append(data)\n    else:\n        if name in prioritas2019_list:\n            prioritas = 'Ya'\n        data = [name, date, sponsor, status, prioritas]\n        data2024.append(data) ",
   "execution_count": 13,
   "outputs": [
    {
     "name": "stdout",
     "text": "RUU tentang Perubahan atas Undang-Undang Nomor 24 Tahun 2000 tentang Perjanjian Internasional\nTerdaftar\nRUU tentang Keamanan dan Ketahanan Siber\nTerdaftar\nRUU tentang Perubahan atas Undang-Undang Nomor 37 Tahun 1999 tentang Hubungan Luar Negeri\nTerdaftar\nRUU tentang Perubahan atas Undang-Undang Nomor 32 Tahun 2002 tentang Penyiaran\nPenyusunan\nRUU tentang Perubahan atas Undang - Undang Nomor 11 Tahun 2008 tentang Informasi dan Transaksi Elektronik (ITE)\nSelesai\nRUU tentang Radio Televisi Republik Indonesia\nTerdaftar\nRUU tentang Persandian\nTerdaftar\nRUU tentang Keamanan dan Ketahanan Siber\nPenyusunan\nRUU tentang Keamanan Laut\nTerdaftar\nRUU tentang Rahasia Negara\nTerdaftar\nRUU tentang Perubahan atas Undang-Undang Nomor 3 Tahun 2002 tentang Pertahanan\nTerdaftar\nRUU tentang Keamanan Nasional\nTerdaftar\nRUU tentang Tugas Perbantuan Militer\nTerdaftar\nRUU tentang Perubahan atas Undang-Undang Nomor 11 Tahun 2008 tentang Informasi dan Transaksi Elektronik\nTerdaftar\nRUU tentang Radio Televisi Republik Indonesia\nPenyusunan\nRUU tentang Paradiplomasi\nTerdaftar\nRUU tentang Konvergensi Telematika\nTerdaftar\nRUU tentang Pertanahan\nTerdaftar\nRUU tentang Pengelolaan Sumber Daya Nasional Pertahanan Negara\nTerdaftar\nRUU tentang Perubahan atas Undang-Undang Nomor 5 Tahun 2014 tentang Aparatur Sipil Negara\nPembahasan\nRUU tentang Perubahan atas Undang-Undang Nomor 34 Tahun 2004 tentang Tentara Nasional Indonesia\nTerdaftar\nRUU tentang Susunan dan Kedudukan MPR, DPR, dan DPD\nTerdaftar\nRUU tentang Perubahan atas Undang-Undang Nomor 33 Tahun 2009 tentang Perfilman\nTerdaftar\nRUU tentang Sistem Pengawasan Intern Pemerintah\nTerdaftar\nRUU tentang Perlindungan Data dan Informasi Pribadi\nTerdaftar\nRUU tentang Jabatan Pejabat Pembuat Akta Tanah\nTerdaftar\nRUU tentang Perubahan atas Undang-Undang Nomor 32 Tahun 2002 tentang Penyiaran\nHarmonisasi\nRUU tentang Wawasan Nusantara\nPembahasan\nRUU tentang Perubahan atas Undang-Undang Nomor 12 Tahun 2006 tentang Kewarganegaraan Republik Indonesia\nTerdaftar\nRUU tentang Perubahan atas Undang-Undang Nomor 38 Tahun 2009 tentang Pos\nTerdaftar\nRUU tentang Sistem\nPenyelesaian Konflik Agraria\nTerdaftar\nRUU tentang Perubahan atas Undang-Undang Nomor 21 Tahun 2001 tentang Otonomi Khusus Bagi Provinsi Papua\nTerdaftar\nRUU tentang\nPerubahan atas Undang-Undang Nomor 39\nTahun 2008 tentang Kementerian Negara\nTerdaftar\nRUU tentang Perubahan atas Undang- Undang Nomor 33 Tahun 2004 tentang Perimbangan Keuangan antara Pusat dan Daerah\nTerdaftar\nRUU tentang\nPerubahan atas Undang-Undang Nomor 26\nTahun 2007 tentang Penataan Ruang\nTerdaftar\nRUU tentang Perubahan atas Undang - Undang Nomor 1 Tahun 2015 tentang Penetapan Peraturan Pemerintah Pengganti UU Nomor 1 Tahun 2014 tentang Pemilihan Gubernur, Bupati, dan Walikota Menjadi UU\nSelesai\nRUU tentang\nKawasan Terpadu Mandiri\nTerdaftar\nRUU tentang Perubahan Kedua Atas UU Nomor 23 Tahun 2014 tentang Pemerintahan Daerah\nSelesai\nRUU tentang\nPerubahan atas Undang-Undang Nomor 2\nTahun 2012 tentang Pengadaan Tanah bagi\nPembangunan untuk Kepentingan Umum\nTerdaftar\nRUU tentang Penyelenggaraan Pemilihan Umum\nKeputusan\nRUU tentang\nPerubahan atas Undang-Undang Nomor 16\nTahun 1997 tentang Statistik\nTerdaftar\nRUU tentang Pertanahan\nPembahasan\nRUU tentang\nPenyadapan\nTerdaftar\nRUU tentang Susunan dan Kedudukan MPR, DPR dan DPD\nTerdaftar\nRUU tentang\nPerubahan Kedua atas Undang-Undang\nNomor 22 Tahun 2004 tentang Komisi\nYudisial\nTerdaftar\nRUU tentang Perubahan atas Undang-Undang Nomor 2 Tahun 2011 tentang Partai Politik\nTerdaftar\nRUU tentang Jabatan Hakim\nTerdaftar\nRUU tentang Perubahan atas Undang-Undang Nomor 12 Tahun 1980 tentang Hak Keuangan/Administratif Pimpinan dan Anggota Lembaga Tertinggi/Tinggi Negara Serta Bekas Pimpinan Lembaga Tertinggi/Tinggi Negara dan Bekas Anggota Lembaga Tinggi Negara\nTerdaftar\nRUU tentang\nPerubahan atas Undang-Undang Nomor 2\nTahun 2002 tentang Kepolisian Negara\nRepublik Indonesia\nTerdaftar\nRUU tentang Sistem Pengawasan Intern Pemerintah\nTerdaftar\nRUU tentang Perubahan Kedua atas Undang-Undang Nomor 14 Tahun 1985 tentang Mahkamah Agung\nTerdaftar\nRUU tentang Pengelolaan Terpadu Kawasan Megapolitan Jakarta, Bogor, Depok, Tangerang, Bekasi dan Cianjur\nTerdaftar\nRUU tentang Perkumpulan\nTerdaftar\nRUU tentang Provinsi Bali\nTerdaftar\nRUU tentang Perubahan Kedua atas Undang-Undang Nomor 17 tahun 2013 tentang Organisasi Kemasyarakatan\nTerdaftar\nRUU tentang Etika Penyelenggara Negara / RUU tentang Etika Lembaga Perwakilan\nTerdaftar\nRUU tentang Perubahan atas Undang-Undang Nomor 33 Tahun 2014 tentang Jaminan Produk Halal\nTerdaftar\nRUU tentang Partisipasi Masyarakat\nTerdaftar\nRUU tentang Kitab Undang-Undang Hukum Administrasi Umum\nTerdaftar\nRUU tentang Penyelenggaraan Pemerintah di Wilayah Kepulauan\nTerdaftar\nRUU tentang Perubahan atas Undang-Undang Nomor 18 Tahun 2003 tentang Advokat\nTerdaftar\nRUU tentang Sistem Penyelesaian Konflik Agraria\nTerdaftar\nRUU tentang Perubahan Kedua atas Undang-Undang Nomor 13 Tahun 2006 tentang Perlindungan Saksi dan Korban\nTerdaftar\nRUU tentang Perkumpulan\nTerdaftar\nRUU tentang Perubahan Kedua atas Undang-Undang Nomor 31 Tahun 1999 tentang Pemberantasan Tindak Pidana Korupsi\nTerdaftar\nRUU tentang Kitab Undang - Undang Hukum Pidana\nPembahasan\nRUU tentang Perubahan atas Undang-Undang Nomor 11 Tahun 2012 tentang Sistem Peradilan Pidana Anak\nTerdaftar\nRUU tentang Hukum Acara Pidana\nTerdaftar\nRUU tentang Hukum Acara Mahkamah Konstitusi\nTerdaftar\nRUU tentang Perubahan atas Undang-Undang Nomor 16 Tahun 2004 tentang Kejaksaan\nTerdaftar\nRUU tentang Hukum Materiil Perkawinan\nTerdaftar\nRUU tentang Perubahan atas Undang-Undang Nomor 26 Tahun 2000 tentang Pengadilan Hak Asasi Manusia\nTerdaftar\nRUU tentang Perubahan atas Undang-Undang Nomor 6 Tahun 2011 tentang Keimigrasian\nTerdaftar\nRUU tentang Pemberantasan Tindak Pidana Korupsi\nTerdaftar\nRUU tentang Peradilan\nTerdaftar\nRUU tentang Perubahan atas Undang-Undang Nomor 12 Tahun 2011 tentang Pembentukan Peraturan Perundang-Undangan\nPenyusunan\nRUU tentang Perubahan Kedua atas Undang-Undang Nomor 12 Tahun 2011 tentang Pembentukan Peraturan Perundang-undangan\nSelesai\nRUU tentang Perubahan atas Undang-Undang Nomor 2 Tahun 2002 tentang Kepolisian Negara Republik Indonesia\nTerdaftar\nRUU tentang Perubahan atas Undang-Undang Nomor 5 Tahun 2018 tentang Pemberantasan Tindak Pidana Terorisme\nTerdaftar\nRUU tentang Perubahan atas Undang-Undang Nomor 39 Tahun 1999 tentang Hak Asasi Manusia\nTerdaftar\nRUU tentang Perubahan Kedua atas Undang-Undang Nomor 41 Tahun 1999 tentang Kehutanan\nTerdaftar\nRUU tentang Hukum Acara Perdata\nTerdaftar\nRUU tentang Sistem Perlindungan dan Pengelolaan Hutan\nTerdaftar\nRUU tentang Perlindungan dan Pengakuan Hak Masyarakat Adat\nTerdaftar\nRUU tentang Pencegahan dan Pengendalian Kebakaran Hutan dan Lahan\nTerdaftar\nRUU tentang Perubahan atas Undang-Undang Nomor 15 Tahun 2003 tentang Pemberantasan Tindak Pidana Terorisme\nPembahasan\nRUU tentang Perubahan Kedua atas Undang-Undang Nomor 18 Tahun 2013 tentang Pencegahan dan Pemberantasan Perusakan Hutan\nTerdaftar\nRUU tentang Perampasan Aset Tindak Pidana\nTerdaftar\nRUU tentang Pertembakauan\nTerdaftar\nRUU tentang Mahkamah Agung\nTerdaftar\nRUU tentang Perubahan atas Undang-Undang Nomor 32 Tahun 2009 tentang Perlindungan dan Pengelolaan Lingkungan Hidup\nTerdaftar\nRUU tentang Merek\nSelesai\nRUU tentang Perkelapasawitan\nTerdaftar\nRUU tentang Perubahan atas Undang-Undang Nomor 31 Tahun 2000 tentang Desain Industri\nTerdaftar\nRUU tentang Perubahan atas Undang-Undang Nomor 22 Tahun 2009 tentang Lalu Lintas dan Angkutan Jalan\nTerdaftar\nRUU tentang Ekstradisi (mengganti UU No. 1 Tahun 1979 tentang Ekstradisi)\nTerdaftar\nRUU tentang Perubahan atas Undang-Undang Nomor 38 Tahun 2004 tentang Jalan\nSelesai\nRUU tentang Paten\nSelesai\nRancangan Undang-Undang tentang Transportasi Daring\nTerdaftar\nRUU tentang Perubahan atas Undang-Undang Nomor 1 Tahun 2006 tentang Bantuan Timbal Balik dalam Masalah Pidana\nTerdaftar\nRUU tentang Sistem Transportasi Nasional\nTerdaftar\nRUU tentang Perubahan atas Undang-Undang Nomor 18 Tahun 2003 tentang Advokat\nTerdaftar\nRUU tentang Sanitasi\nTerdaftar\nRUU tentang Jabatan Hakim\nPembahasan\nRUU tentang Percepatan Pembangunan Daerah Tertinggal dan Kepulauan\nTerdaftar\nRUU tentang Persekutuan Perdata, Persekutuan Firma dan Persekutuan Komanditer\nTerdaftar\nRUU tentang Perubahan atas Undang-Undang Nomor 1 Tahun 2011 tentang Perumahan dan Kawasan Permukiman\nTerdaftar\nRUU tentang Perubahan atas Undang-Undang Nomor 40 tahun 2007 tentang Perseroan Terbatas\nTerdaftar\nRUU tentang Perubahan atas Undang-Undang Nomor 19 Tahun 2003 tentang Badan Usaha Milik Negara\nHarmonisasi\nRUU tentang Pemindahan Narapidana Antarnegara\nTerdaftar\nRUU tentang Perubahan atas Undang-Undang Nomor 7 Tahun 2014 tentang Perdagangan\nTerdaftar\nRUU tentang Perubahan atas Undang-Undang Nomor 12 Tahun 1995 tentang Pemasyarakatan\nTerdaftar\nRUU tentang Perubahan atas Undang-Undang Nomor 4 Tahun 2009 tentang Pertambangan Mineral dan Batu Bara\nSelesai\nRUU tentang Komisi Kebenaran dan Rekonsiliasi\nTerdaftar\nRUU tentang Pemanfaatan Tenaga Surya\nTerdaftar\nRUU tentang Balai Harta Peninggalan\nTerdaftar\nRUU tentang Perubahan atas Undang-Undang Nomor 22 Tahun 2001 tentang Minyak dan Gas Bumi\nTerdaftar\nRUU tentang Perubahan atas Undang-Undang Nomor 12 Tahun 2006 tentang Kewarganegaraan RI\nTerdaftar\nRUU tentang Komisi Nasional Perlindungan Lingkungan Hidup\nTerdaftar\nRUU tentang Narkotika dan Psikotropika\nTerdaftar\nRUU tentang Kendaraan Listrik\nTerdaftar\nRUU tentang Penghinaan Dalam Persidangan (Contempt of Court)\nTerdaftar\nRUU tentang Perlindungan dan Bantuan Sosial\nTerdaftar\nRUU tentang Perubahan Kedua atas Undang-Undang Nomor 22 Tahun 2004 Tentang Komisi Yudisial\nTerdaftar\nRUU tentang Analisa Mengenai Dampak Sosial\nTerdaftar\nRUU tentang Perubahan Kedua atas Undang-Undang Nomor 30 Tahun 2002 tentang Komisi Pemberantasan Tindak Pidana Korupsi\nTerdaftar\nRUU tentang Perlindungan Tokoh Agama dan Simbol Agama (RUU tentang Perlindungan Kyai dan Guru Ngaji)\nTerdaftar\nRUU tentang Pelestarian dan Pemanfaatan Sumber Daya Genetik\nTerdaftar\nRUU tentang Perubahan atas Undang-Undang Nomor 41 Tahun 2004 tentang Wakaf\nTerdaftar\nRUU tentang Perubahan atas Undang-Undang Nomor 5 Tahun 1990 tentang Konservasi Sumber Daya alam Hayati dan Ekosistemnya\nHarmonisasi\nRUU tentang Perubahan atas Undang-Undang Nomor 23 Tahun 2011 tentang Pengelolaan Zakat\nTerdaftar\nRUU tentang Perubahan Kedua atas Undang-Undang Nomor 41 Tahun 1999 tentang Kehutanan\nTerdaftar\nRUU tentang Perubahan atas Undang-Undang Nomor 34 Tahun 2014 tentang Pengelolaan Keuangan Haji\nTerdaftar\nRUU tentang Perubahan atas Undang-Undang Nomor 1 Tahun 1973 tentang Landas Kontinen Indonesia\nTerdaftar\nRUU tentang Tanggung Jawab Sosial Perusahaan\nTerdaftar\nRUU tentang Perubahan Kedua atas Undang-Undang Nomor 31 Tahun 2004 tentang Perikanan\nPenyusunan\nRUU tentang Sistem Perindustrian Nasional\nTerdaftar\nRUU tentang Perlindungan dan Pemberdayaan Nelayan\nSelesai\nRUU tentang Kependudukan dan Keluarga Nasional\nTerdaftar\nRUU tentang Zona Tambahan Indonesia\nTerdaftar\nRUU tentang Kesejahteraan Ibu dan Anak\nPenetapan Usul\nRUU tentang Perubahan atas Undang-Undang Nomor 12 Tahun 1992 tentang Sistem Budidaya Tanaman\nPenyusunan\nRUU tentang Pemberdayaan Anak Yatim dan Anak Terlantar oleh Negara\nTerdaftar\nRUU tentang Perubahan Kedua atas Undang-Undang Nomor 27 Tahun 2007 tentang Pengelolaan Wilayah Pesisir dan Pulau-Pulau Kecil\nTerdaftar\nRUU tentang Larangan Minuman Beralkohol\nPenyusunan\nRUU tentang Perubahan atas Undang-Undang Nomor 29 Tahun 2000 tentang Perlindungan Varietas Tanaman\nTerdaftar\nRUU tentang Anti-Propaganda Penyimpangan Seksual\nTerdaftar\nRUU tentang Perubahan atas Undang-Undang Nomor 16 Tahun 1992 tentang Karantina Hewan, Ikan dan Tumbuhan\nPembahasan\nRUU tentang Perubahan Ketiga atas Undang-Undang Nomor 23 Tahun 2002 tentang Perlindungan Anak\nTerdaftar\nRUU tentang Kedaulatan Pangan (Perubahan atas UU Nomor 18 Tahun 2012 tentang Pangan)\nTerdaftar\nRUU tentang Pengasuhan Anak\nTerdaftar\nRUU tentang Jalan\nTerdaftar\nRUU tentang Bank Makanan untuk Kesejahteraan Sosial\nTerdaftar\nRUU tentang Tabungan Perumahan Rakyat\nSelesai\nRUU tentang Kerukunan Umat Beragama\nTerdaftar\nRUU tentang Jasa Konstruksi\nSelesai\nRUU tentang Pengawasan Obat dan Makanan\nPenetapan Usul\nRUU tentang Arsitek\nSelesai\nRUU tentang Perubahan atas Undang-Undang Nomor 2 Tahun 2004 tentang Penyelesaian Perselisihan Hubungan Industrial\nTerdaftar\nRUU tentang Sistem Transportasi Nasional\nTerdaftar\nRUU tentang Perlindungan Pekerja Rumah Tangga\nPenyusunan\nRUU tentang Pengembangan Pembangunan Daerah Kepulauan\nPembahasan\nRUU tentang Sistem Kesehatan Nasional\nTerdaftar\nRUU tentang Percepatan Pembangunan Daerah Tertinggal\nTerdaftar\nRUU tentang Kefarmasian\nTerdaftar\nRUU tentang Perubahan atas UU Nomor 19 Tahun 2003 tentang BUMN\nPembahasan\nRUU tentang Perubahan atas Undang-Undang Nomor 24 Tahun 2011 tentang Badan Penyelenggara Jaminan Sosial\nTerdaftar\nRUU tentang Perubahan atas Undang-Undang Nomor 25 Tahun 2007 tentang Penanaman Modal\nTerdaftar\nRUU tentang Perlindungan Tenaga Kerja Honorer dan Tenaga Kerja Lepas (Pramubakti)\nTerdaftar\nRUU tentang Perkoperasian\nPembahasan\nRUU tentang Perlindungan Pegawai Pemerintah Non Pegawai Negeri\nTerdaftar\nRUU tentang Pertembakauan\nPembahasan\nRUU tentang Buruh Pertanian/Perkebunan\nTerdaftar\nRUU tentang Perubahan atas UU Nomor 5 Tahun 1999 tentang Larangan Praktik Monopoli dan Persaingan Usaha Tidak Sehat\nPembahasan\nRUU tentang Kesehatan Masyarakat\nTerdaftar\nRUU tentang Larangan Minuman Beralkohol\nPembahasan\nRUU tentang Perubahan atas Undang-Undang Nomor 1 Tahun 1970 tentang Keselamatan Kerja\nTerdaftar\nRUU tentang Bahan Kimia\nTerdaftar\nRUU tentang Pengawas Ketenagakerjaan\nTerdaftar\nRUU tentang Metrologi Legal\nTerdaftar\nRUU tentang Sistem Pengupahan\nTerdaftar\nRUU tentang Badan Usaha Milik Daerah\nTerdaftar\nRUU tentang Profesi Psikologi\nPembahasan\nRUU tentang Perubahan atas Undang-Undang Nomor 8 Tahun 1999 tentang Perlindungan Konsumen\nTerdaftar\nRUU tentang Perubahan atas Undang-Undang Nomor 20 Tahun 2013 tentang Pendidikan Kedokteran\nPembahasan\nRUU tentang Ekonomi Kreatif\nPembahasan\nRUU tentang Pendidikan Kedokteran Hewan\nTerdaftar\nRUU tentang Kewirausahaan Nasional\nPembahasan\nRUU tentang Fasilitas Sarana Prasarana Pendidikan\nTerdaftar\nRUU tentang Perubahan atas UU Nomor 22 Tahun 2001 tentang Minyak dan Gas Bumi\nPembahasan\nRUU tentang Perubahan atas Undang-Undang Nomor 12 Tahun 2012 tentang Pendidikan Tinggi\nTerdaftar\nRUU tentang Perubahan atas Undang - Undang Nomor 4 Tahun 2009 tentang Pertambangan Mineral dan Batubara\nPembahasan\nRUU tentang Pendidikan Tinggi Agama Islam\nTerdaftar\nRUU tentang Perubahan atas Undang-Undang Nomor 18 Tahun 2002 tentang Sistem Nasional Penelitian, Pengembangan, dan Penerapan Ilmu Pengetahuan\nPembahasan\nRUU tentang Perubahan atas Undang-Undang Nomor 12 Tahun 2010 tentang Gerakan Pramuka\nTerdaftar\nRUU tentang Pengelolaan Sumber Daya Alam\nTerdaftar\nRUU tentang Perubahan atas Undang-Undang Nomor 40 Tahun 2009 tentang Kepemudaan\nTerdaftar\nRUU tentang Geologi\nTerdaftar\nRUU tentang Perubahan atas Undang-Undang Nomor 33 Tahun 2009 tentang Perfilman\nTerdaftar\nRUU tentang Perubahan atas Undang-Undang Nomor 30 Tahun 2001 tentang Energi\nTerdaftar\nRUU tentang Perubahan atas Undang-Undang Nomor 11 Tahun 2010 tentang Cagar Budaya\nTerdaftar\nRUU tentang Perubahan atas Undang-Undang Nomor 12 Tahun 2012 tentang Pendidikan Tinggi\nTerdaftar\nRUU tentang Pengembangan Talenta Nasional\nTerdaftar\nRUU tentang Keadilan dan Kesetaraan Gender\nTerdaftar\nRUU tentang Persepakbolaan\nTerdaftar\nRUU tentang Tanggung Jawab Sosial Perusahaan\nTerdaftar\nRUU tentang Perubahan Kedua atas Undang-undang Nomor 17 Tahun 2003 tentang Keuangan Negara\nTerdaftar\nRUU tentang Pengelolaan Ibadah Haji dan Penyelenggaraan Umrah\nPembahasan\nRUU tentang Perubahan atas Undang-Undang Nomor 1 Tahun 2004 tentang Perbendaharaan Negara\nTerdaftar\nRUU tentang Penyandang Disabilitas\nSelesai\nRUU tentang Perubahan atas Undang-Undang Nomor 24 Tahun 2004 tentang Lembaga Penjamin Simpanan\nTerdaftar\nRUU tentang Perubahan atas Undang-Undang Nomor 1 Tahun 1974 tentang Perkawinan\nKeputusan\nRUU tentang Sistem Perekonomian Nasional\nTerdaftar\nRUU tentang Kepalangmerahan\nSelesai\nRUU tentang Kewirausahaan Nasional\nTerdaftar\nRUU tentang Praktik Pekerjaan Sosial\nPembahasan\nRUU tentang Teknologi Keuangan (Financial Technology)\nTerdaftar\nRUU tentang Lembaga Pendidikan Keagamaan dan Pesantren\nPembahasan\nRUU tentang Perubahan atas Undang-Undang Nomor 28 Tahun 2009 tentang Pajak Daerah dan Retribusi Daerah\nTerdaftar\nRUU tentang Ketahanan Keluarga\nTerdaftar\nRUU tentang Aktivitas Ekonomi atas Negara Pendudukan\nTerdaftar\nRUU tentang Perlindungan Umat Beragama\nTerdaftar\nRUU tentang Perubahan atas Undang-Undang Nomor 24 Tahun 1999 tentang Lalu Lintas Devisa dan Sistem Nilai Tukar\nTerdaftar\nRUU tentang Perubahan atas Undang-Undang Nomor 23 Tahun 2004 tentang Penghapusan Kekerasan Dalam Rumah Tangga\nTerdaftar\nRUU tentang Perubahan atas Undang-Undang Nomor 34 Tahun 1964 tentang Dana Pertanggungan Wajib Kecelakaan Lalu Lintas Jalan\nTerdaftar\nRUU tentang Perlindungan Pekerja Indonesia di Luar Negeri\nSelesai\nRUU tentang Ekonomi Syariah\nTerdaftar\nRUU tentang Perlindungan Pekerja Rumah Tangga\nTerdaftar\nRUU tentang Konsultan Pajak\nTerdaftar\nRUU tentang Pembinaan, Pengembangan dan Pengawasan Sediaan Farmasi, Alat Kesehatan, dan Perbekalan Kesehatan Rumah Tangga\nTerdaftar\nRUU tentang Bahan Kimia\nTerdaftar\nRUU tentang Perubahan Atas UU Nomor 2 Tahun 2004 Tentang Penyelesaian Perselisi han Hubungan Industrial\nPenyusunan\nRancangan Undang-Undang tentang Pelaksanaan Hak dan Kewajiban Anggota Dewan Perwakilan Rakyat Republik Indonesia\nTerdaftar\nRUU tentang Kebidanan\nKeputusan\nRancangan Undang-Undang tentang Perubahan atas Undang-Undang Nomor 23 Tahun 2019 tentang Pengelolaan Sumber Daya Nasional untuk Pertahanan Negara\nTerdaftar\nRUU tentang Kekarantinaan Kesehatan\nTerdaftar\nRancangan Undang-Undang tentang Kawasan Wisata Khusus\nTerdaftar\nRUU tentang Perubahan atas Undang-Undang Nomor 36 Tahun 2014 tentang Tenaga Kesehatan\nTerdaftar\nRancangan Undang-Undang tentang Tindak Pidana Kesusilaan\nTerdaftar\nRUU tentang Praktik Kefarmasian\nTerdaftar\nRUU tentang Pelindungan Data Pribadi\nPembahasan\nRUU tentang Pengawasan Obat dan Makanan serta Pemanfaatan Obat Asli Indonesia\nPenyusunan\nRUU tentang Perubahan atas Undang-Undang Nomor 21 Tahun 2001 tentang Otonomi Khusus Bagi Provinsi Papua\nSelesai\nRUU tentang Perubahan atas Undang-Undang Nomor 4 Tahun 1984 tentang Wabah Penyakit Menular\nTerdaftar\nRUU tentang Perubahan atas Undang-Undang Nomor 33 Tahun 2004 tentang Perimbangan Keuangan antara Pemerintah Pusat dan Pemerintahan Daerah\nSelesai\nRUU tentang Perubahan atas Undang-Undang Nomor 13 Tahun 2003 tentang Ketenagakerjaan\nTerdaftar\nRUU tentang Perubahan atas Undang-Undang Nomor 35 Tahun 2009 tentang Narkotika\nPembahasan\nRUU tentang Pengawasan Ketenagakerjaan\nTerdaftar\nRUU tentang Perubahan Kedua atas Undang-Undang Nomor 31 Tahun 2004 tentang Perikanan\nTerdaftar\nRUU tentang Sistem Pengupahan\nTerdaftar\nRUU tentang Perubahan atas Undang-Undang Nomor 29 Tahun 2000 tentang Perlindungan Varietas Tanaman\nTerdaftar\nRUU tentang Perubahan atas Undang-Undang Nomor 20 Tahun 2003 tentang Sistem Pendidikan Nasional\nTerdaftar\nRUU tentang Perubahan atas Undang-Undang Nomor 18 Tahun 2012 tentang Pangan\nTerdaftar\nRUU tentang Kebudayaan\nSelesai\nRUU tentang Perubahan atas Undang-Undang Nomor 8 Tahun 1999 tentang Perlindungan Konsumen\nTerdaftar\nRUU tentang Bahasa dan Kesenian Daerah\nTerdaftar\nRUU tentang Perubahan atas Undang-Undang Nomor 24 Tahun 2000 tentang Perjanjian Internasional\nTerdaftar\nRUU tentang Sistem Perbukuan\nSelesai\nRUU tentang Perubahan atas Undang-Undang Nomor 37 Tahun 1999 tentang Hubungan Luar Negeri\nTerdaftar\nRUU tentang Perubahan atas Undang-Undang Nomor 10 Tahun 2009 tentang Kepariwisataan\nTerdaftar\nRUU tentang Sistem Perposan dan Logistik Nasional\nTerdaftar\nRUU tentang Perubahan atas Undang-Undang Nomor 4 Tahun 1990 tentang Serah-simpan Karya Cetak dan Karya Rekam\nKeputusan\nRUU tentang Perubahan atas Undang-Undang Nomor 34 Tahun 2004 tentang Tentara Nasional Indonesia\nTerdaftar\nRUU tentang Perubahan Kelima Atas UU Nomor 6 Tahun 1983 tentang Ketentuan Umum Dan Tata Cara Perpajakan\nPembahasan\nRUU tentang Perubahan atas Undang-Undang Nomor 16 Tahun 2012 tentang Industri Pertahanan\nTerdaftar\nRUU tentang Perubahan Kedua atas UU Nomor 23 Tahun 1999 Tentang Bank Indonesia\nPenyusunan\nRUU tentang Keamanan Nasional\nTerdaftar\nRUU tentang Perubahan atas Undang-Undang Nomor 8 Tahun 1995 tentang Pasar Modal\nTerdaftar\nRUU tentang Perubahan atas Undang-Undang Nomor 7 Tahun 2017 tentang Pemilihan Umum\nHarmonisasi\nRUU tentang Perubahan atas Undang - Undang Nomor 20 Tahun 1997 tentang Penerimaan Negara Bukan Pajak\nPembahasan\nRUU tentang Ibukota Negara\nSelesai\nRUU tentang Pengurusan Piutang Negara dan Piutang Daerah\nTerdaftar\nRUU tentang Perubahan atas Undang-Undang Nomor 29 Tahun 2007 tentang Pemerintahan Provinsi Daerah Khusus Ibukota Jakarta sebagai Ibukota Negara Kesatuan Republik Indonesia\nTerdaftar\nRUU tentang Jaring Pengaman Sistem Keuangan\nSelesai\nRUU tentang Perubahan Kedua atas Undang-Undang Nomor 2 Tahun 2008 tentang Partai Politik\nTerdaftar\nRUU tentang Perubahan atas Undang-Undang Nomor 17 Tahun 2003 tentang Keuangan Negara\nTerdaftar\nRUU tentang Kitab Undang-Undang Hukum Pidana\nPembahasan\nRUU tentang Perubahan Kedua atas Undang - Undang Nomor 7 Tahun 1992 tentang Perbankan\nPenyusunan\nRUU tentang Perubahan atas Undang-Undang Nomor 12 Tahun 1995 tentang Pemasyarakatan\nPembahasan\nRUU tentang Pembatasan Transaksi Penggunaan Uang Kartal\nTerdaftar\nRUU tentang Perubahan atas Undang-Undang Nomor 8 Tahun 1981 tentang Hukum Acara Pidana\nTerdaftar\nRUU tentang Pajak Penghasilan\nTerdaftar\nRUU tentang Perubahan atas Undang-Undang Nomor 16 Tahun 2004 tentang Kejaksaan Republik Indonesia\nSelesai\nRUU tentang Perubahan atas Undang-Undang Nomor 28 Tahun 2009 tentang Pajak Daerah dan Retribusi Daerah\nTerdaftar\nRUU tentang Perampasan Aset Tindak Pidana\nTerdaftar\nRUU tentang Pengelolaan Kekayaan Negara\nTerdaftar\nRUU tentang Perubahan Kedua atas Undang-Undang Nomor 18 Tahun 2009 tentang Peternakan dan Kesehatan Hewan\nTerdaftar\nRUU tentang Perubahan atas Undang-Undang Nomor 24 Tahun 1999 tentang Lalu Lintas Devisa dan Sistem Nilai Tukar\nTerdaftar\nRUU tentang Perubahan atas Undang-Undang Nomor 13 Tahun 2010 tentang Hortikultura\nTerdaftar\nRUU tentang Perubahan Harga Rupiah\nTerdaftar\nRUU tentang Perubahan atas Undang-Undang Nomor 19 Tahun 2013 tentang Perlindungan Pemberdayaan Petani\nTerdaftar\nRUU tentang Perubahan atas Undang-Undang Nomor 11 Tahun 1992 tentang Dana Pensiun\nTerdaftar\nRUU tentang Perubahan atas Undang-Undang Nomor 39 Tahun 2014 tentang Perkebunan\nTerdaftar\nRUU tentang Lelang\nTerdaftar\nRUU tentang Perubahan atas Undang-Undang Nomor 7 Tahun 2016 tentang Perlindungan dan Pemberdayaan Nelayan, Pembudi Daya Ikan, dan Petambak Garam\nTerdaftar\nRUU tentang Penjaminan\nSelesai\nRUU tentang Perubahan Kedua atas Undang-Undang Nomor 27 Tahun 2007 tentang Pengelolaan Wilayah Pesisir dan Pulau-Pulau Kecil\nTerdaftar\nRUU tentang Penjaminan Polis\nTerdaftar\nRUU tentang Perubahan atas Undang-Undang Nomor 10 Tahun 1997 tentang Ketenaganukliran\nTerdaftar\nRUU tentang Perubahan atas Undang-Undang Nomor 24 Tahun 2004 tentang Lembaga Penjamin Simpanan\nTerdaftar\nRUU tentang Perubahan atas Undang-Undang Nomor 40 Tahun 2004 tentang Sistem Jaminan Sosial Nasional\nTerdaftar\nRUU tentang Penilai\nTerdaftar\nRUU tentang Perubahan atas Undang-Undang Nomor 20 Tahun 2003 tentang Sistem Pendidikan Nasional\nTerdaftar\nRUU tentang Pengadaan Barang dan Jasa\nTerdaftar\nRUU tentang Perubahan atas Undang-Undang Nomor 13 Tahun 1985 tentang Bea Meterai\nSelesai\nRUU tentang Perekonomian Nasional\nTerdaftar\nRUU tentang Perubahan atas Undang-Undang Nomor 21 Tahun 2011 tentang Otoritas Jasa Keuangan\nTerdaftar\nRUU tentang Perubahan atas Undang-Undang Nomor 25 Tahun 2004 tentang Sistem Perencanaan Pembangunan Nasional\nTerdaftar\nRUU tentang Perubahan Kedua atas Undang-Undang Nomor 11 Tahun 1995 tentang Cukai\nTerdaftar\nRUU tentang Lembaga Pembiayaan Pembangunan Indonesia\nTerdaftar\nRUU tentang Perubahan atas Undang-Undang Nomor 15 Tahun 2006 tentang Badan Pemeriksa Keuangan\nTerdaftar\nRUU tentang Bea Materai\nKeputusan\nRUU tentang Perubahan Kedua atas Undang-Undang Nomor 23 tahun 1999 tentang Bank Indonesia\nPenyusunan\nRUU tentang Pajak Bumi dan Bangunan\nTerdaftar\nRUU tentang Perubahan Kedua atas Undang-Undang Nomor 7 Tahun 1992 tentang Perbankan\nTerdaftar\nRUU tentang Pajak Pertambahan Nilai dan Pajak Penjualan Barang Mewah\nTerdaftar\nRUU tentang Perubahan atas Undang-Undang Nomor 8 Tahun 1995 tentang Pasar Modal\nTerdaftar\nRUU tentang Peningkatan Pendapatan Asli Daerah\nTerdaftar\nRUU tentang Perubahan Kelima atas Undang-Undang Nomor 6 Tahun 1983 tentang Ketentuan Umum dan Tata Cara Perpajakan\nSelesai\nRUU tentang Tabungan Haji\nTerdaftar\nRUU tentang Masyarakat Hukum Adat\nHarmonisasi\nRUU tentang Pengampunan Pajak\nSelesai\nRUU tentang Perubahan atas Undang-Undang Nomor 21 Tahun 2000 tentang Serikat Pekerja/Serikat Buruh\nTerdaftar\nRUU tentang Perkelapasawitan\nHarmonisasi\nRUU tentang Perubahan atas Undang-Undang Nomor 10 Tahun 2009 tentang Kepariwisataan\nTerdaftar\nRUU tentang Kedaulatan Sandang Nasional/RUU tentang Pertekstilan\nTerdaftar\nRUU tentang Perubahan atas Undang-Undang Nomor 3 Tahun 2005 tentang Sistem Keolahragaan Nasional\nSelesai\nRUU tentang Perubahan Kedua atas UU Nomor 24 Tahun 2003 tentang Mahkamah Konstitusi\nTerdaftar\nRUU tentang Perubahan Ketiga atas Undang-Undang Nomor 1 Tahun 2015 tentang Penetapan Perpu Nomor 1 Tahun 2014 tentang Pemilihan Gubernur, Bupati, dan Walikota Menjadi Undang-Undang\nTerdaftar\nRUU tentang Perubahan atas UU Nomor 15 Tahun 2006 tentang Badan Pemeriksa Keuangan\nPembahasan\nRUU tentang Provinsi Bali\nTerdaftar\nRUU tentang Keamanan Laut\nTerdaftar\nRUU tentang Perubahan atas Undang-Undang Nomor 11 Tahun 2006 tentang Pemerintahan Aceh\nTerdaftar\nRUU tentang Penghapusan Kekerasan Seksual\nPembahasan\nRUU tentang Perubahan Ketiga atas Undang-Undang Nomor 23 Tahun 2014 tentang Pemerintahan Daerah\nTerdaftar\nRUU tentang Jabatan Pejabat Pembuat Akta Tanah\nTerdaftar\nRUU tentang Perubahan atas Undang-Undang Nomor 5 Tahun 1990 tentang Konservasi Sumber Daya Alam Hayati dan Ekosistemnya\nHarmonisasi\nRUU tentang Perubahan atas UU No 21 Th 2011 tentang Otoritas Jasa Keuangan\nTerdaftar\nRUU tentang Perubahan atas Undang-Undang Nomor 18 Tahun 2008 tentang Pengelolaan Sampah\nTerdaftar\nRUU tentang Perubahan Atas Undang-Undang Nomor 5 Tahun 2014 tentang Aparatur Sipil Negara\nPembahasan\nRUU tentang Perubahan atas Undang-Undang Nomor 5 Tahun 1999 tentang Larangan Praktik Monopoli dan Persaingan Usaha Tidak Sehat\nTerdaftar\nRUU Tentang Konsultan Pajak\nPembahasan\nRUU tentang Perubahan atas Undang-Undang Nomor 3 Tahun 2014 tentang Perindustrian\nTerdaftar\nRUU tentang Perubahan atas Undang-Undang Nomor 20 Tahun 2013 tentang Pendidikan Kedokteran.\nPembahasan\nRUU tentang Energi Baru dan Terbarukan\nPenetapan Usul\nRUU tentang Ketenaganukliran.\nTerdaftar\nRUU tentang Perubahan atas Undang-Undang Nomor 30 Tahun 2007 tentang Energi\nTerdaftar\nRUU tentang Perubahan atas Undang-Undang Nomor 14 Tahun 2005 tentang Guru dan Dosen.\nTerdaftar\nRUU tentang Geologi\nTerdaftar\nRUU tentang Perubahan atas Undang-Undang Nomor 32 Tahun 2009 tentang Pengelolaan dan Perlindungan Lingkungan Hidup.\nTerdaftar\nRUU tentang Perubahan atas Undang-Undang Nomor 30 Tahun 2009 tentang Ketenagalistrikan\nTerdaftar\nRUU Tentang Pengelolaan Kawasan Perbatasan Negara.\nTerdaftar\nRUU tentang Perubahan atas Undang-Undang Nomor 24 Tahun 2007 tentang Penanggulangan Bencana\nPembahasan\nRUU tentang Perubahan Kedua atas Undang-Undang Nomor 10 Tahun 1995 tentang Kepabeanan.\nTerdaftar\nRUU tentang Penghapusan Kekerasan Seksual\nSelesai\nRUU tentang Sanitasi.\nTerdaftar\nRUU tentang Perubahan atas Undang-Undang Nomor 13 Tahun 1998 tentang Kesejahteraan Lanjut Usia\nTerdaftar\nRUU tentang Perubahan atas Undang-Undang Nomor 39 Tahun 2008 tentang Kementerian Negara.\nTerdaftar\nRUU tentang Ketahanan Keluarga\nHarmonisasi\nRUU tentang Perubahan atas Undang-Undang Nomor 24 Tahun 2007 tentang Penanggulangan Bencana.\nPenyusunan\nRUU tentang Perlindungan Hak Pasien\nTerdaftar\nRUU tentang Perubahan atas Undang-Undang Nomor 30 Tahun 2009 tentang Ketenagalistrikan.\nTerdaftar\nRUU tentang Perubahan atas Undang-Undang Nomor 13 Tahun 2003 tentang Ketenagakerjaan\nTerdaftar\nRUU tentang Sistem Pelaporan, Pendaftaran, Pemeriksaaan dan Penentuan Status Hukum Gratifikasi dan Harta Kekayaan Penyelenggara Negara.\nTerdaftar\nRUU tentang Perubahan atas Undang-Undang Nomor 14 Tahun 2005 tentang Guru dan Dosen\nTerdaftar\nRUU tentang Permusikan\nTerdaftar\nRUU tentang Daerah Kepulauan\nPembahasan\nRUU tentang Hak atas Tanah Adat\nTerdaftar\nRUU tentang Pembinaan Haluan Ideologi Pancasila\nPenetapan Usul\nRUU tentang Penyadapan\nPenyusunan\nRUU tentang Pengelolaan Ruang Udara Nasional\nTerdaftar\nRUU tentang Perubahan atas Undang-Undang nomor 22 tahun 2009 tentang Lalu Lintas dan Angkutan Jalan\nTerdaftar\nRUU tentang Rahasia Negara\nTerdaftar\nRUU tentang Energi Baru dan Terbarukan\nTerdaftar\nRUU tentang Persandian\nTerdaftar\nRUU tentang Perubahan Kedua atas Undang-Undang Nomor 17 Tahun 2013 tentang Organisasi Kemasyarakatan\nTerdaftar\nRUU tentang Ketahanan Nasional\nTerdaftar\nRUU tentang Perubahan atas Undang-Undang Nomor 37 Tahun 2008 tentang Ombudsman Republik Indonesia\nTerdaftar\nRUU tentang Perubahan atas Undang-Undang Nomor 36 Tahun 1999 tentang Telekomunikasi\nTerdaftar\nRUU tentang Perubahan atas Undang-Undang Nomor 25 Tahun 2004 tentang Sistem Perencanaan Pembangunan Nasional\nTerdaftar\nRUU tentang Perkotaan\nTerdaftar\nRUU tentang Perubahan atas Undang-Undang Nomor 37 Tahun 2008 tentang Ombudsman Republik Indonesia\nTerdaftar\nRUU tentang Perubahan atas Undang-Undang Nomor 39 Tahun 1999 tentang Hak Asasi Manusia\nTerdaftar\nRUU tentang Hukum Acara Perdata\nPembahasan\nRUU tentang Perubahan atas Undang-Undang Nomor 13 Tahun 2016 tentang Paten\nTerdaftar\nRUU tentang Pembentukan Pengadilan Tinggi\nSelesai\nRUU tentang Pembentukan Pengadilan Tinggi Tata Usaha Negara\nSelesai\nRancangan Undang-Undang tentang Pembentukan Pengadilan Tinggi Agama\nSelesai\nRUU tentang Badan Usaha\nTerdaftar\nRUU tentang Jaminan Benda Bergerak\nTerdaftar\nRUU tentang Perubahan Kedua atas Undang-Undang Nomor 30 Tahun 2004 tentang Jabatan Notaris\nTerdaftar\nRUU tentang Hukum Perdata Internasional\nTerdaftar\nRUU tentang Kekayaan Intelektual Komunal\nTerdaftar\nRUU tentang Perubahan atas Undang-Undang Nomor 1 Tahun 1979 tentang Ekstradisi\nTerdaftar\nRUU tentang Perubahan atas Undang-Undang Nomor 1 Tahun 2006 tentang Bantuan Timbal Balik dalam Masalah Pidana\nTerdaftar\nRUU tentang Pemindahan Narapidana Antar-Negara\nTerdaftar\nRUU tentang Perubahan atas Undang-Undang Nomor 16 Tahun 2011 tentang Bantuan Hukum\nTerdaftar\nRUU tentang Perubahan atas Undang-Undang Nomor 1 Tahun 1973 tentang Landas Kontinen Indonesia\nPembahasan\nRUU tentang Perubahan atas Undang-Undang Nomor 31 Tahun 2000 tentang Desain Industri\nTerdaftar\nRUU tentang Perubahan atas Undang-Undang Nomor 2 Tahun 1981 tentang Metrologi Legal\nTerdaftar\nRUU tentang Cipta Lapangan Kerja (Omnibus Law)\nSelesai\nRUU tentang Perubahan atas Undang-Undang Nomor 4 Tahun 1984 tentang Wabah Penyakit Menular\nTerdaftar\nRUU tentang Perubahan atas Undang-Undang Nomor 29 Tahun 2004 tentang Praktik Kedokteran\nTerdaftar\nRUU tentang Kesetaraan Gender\nTerdaftar\nRUU tentang Ketentuan dan Fasilitas Perpajakan untuk Penguatan Perekonomian (Omnibus Law)\nTerdaftar\nRUU tentang Pembatasan Transaksi Penggunaan Uang Kartal\nTerdaftar\nRUU tentang Perubahan atas Undang-Undang Nomor 37 Tahun 2004 tentang Kepailitan dan Penundaan Kewajiban Pembayaran Utang\nTerdaftar\nRUU tentang Reformasi Pengembangan dan Penguatan Sektor Keuangan (Omnibus Law)\nHarmonisasi\nRUU tentang Pelaporan Keuangan\nTerdaftar\nRUU tentang Penjaminan Polis\nTerdaftar\nRUU tentang Pengelolaan Kekayaan Negara\nTerdaftar\nRUU tentang Perubahan atas Undang-Undang Nomor 11 Tahun 1992 tentang Dana Pensiun\nTerdaftar\nRUU tentang Perubahan Kedua atas Undang-Undang Nomor 12 Tahun 1985 tentang Pajak Bumi dan Bangunan\nTerdaftar\nRUU tentang Lembaga Pembiayaan Pembangunan Indonesia\nTerdaftar\nRUU tentang Perubahan Harga Rupiah\nTerdaftar\nRUU tentang Perubahan Kedua atas Undang-Undang Nomor 10 Tahun 1995 tentang Kepabeanan\nTerdaftar\nRUU tentang Grasi, Amnesti, Abolisi, dan Rehabilitasi\nTerdaftar\nRancangan Undang-Undang tentang Perlelangan\nTerdaftar\nRancangan Undang-Undang tentang Penilai\nTerdaftar\nRUU tentang Perubahan atas Undang-Undang Nomor 44 Tahun 2009 tentang Rumah Sakit\nTerdaftar\nRUU tentang Pengembangan Daya Saing Daerah\nTerdaftar\nRUU tentang Pemerataan Pembangunan Antar Daerah\nTerdaftar\nRUU tentang Pengelolaan Kawasan Perbatasan Negara\nTerdaftar\nRUU tentang Peningkatan Pendapatan Asli Daerah\nTerdaftar\nRUU Perubahan atas Undang-Undang Nomor 6 Tahun 2014 tentang Desa\nTerdaftar\nRUU tentang Perubahan Undang-Undang Nomor 30 Tahun 2014 tentang Administrasi Pemerintahan\nTerdaftar\nRUU tentang Ketransmigrasian\nTerdaftar\nRUU tentang Badan Usaha Milik Desa\nPembahasan\nRUU tentang Perubahan atas Undang-Undang Nomor 25 Tahun 2009 tentang Pelayanan Publik\nTerdaftar\nRUU tentang Partisipasi Masyarakat\nTerdaftar\nRUU tentang Pengawasan Pelaksanaan Undang-Undang\nTerdaftar\nRUU tentang Perubahan atas Undang-Undang Nomor 41 Tahun 2009 tentang Perlindungan Lahan Pertanian Pangan Berkelanjutan\nTerdaftar\nRUU tentang Perubahan atas Undang-Undang Nomor 16 Tahun 2006 tentang Sistem Penyuluhan Pertanian, Perikanan, dan Kehutanan\nTerdaftar\nRUU tentang Pelestarian dan Pemanfaatan Sumber Daya Genetik\nTerdaftar\nRUU tentang Kesejahteraan Sosial\nTerdaftar\nRUU tentang Bahasa Daerah\nTerdaftar\nRUU tentang Perubahan atas Undang-Undang Nomor 39 tahun 2009 tentang Kawasan Ekonomi Khusus\nTerdaftar\nRUU tentang Pengelolaan Aset Daerah\nTerdaftar\nRUU tentang Investasi Penanaman Modal Daerah\nTerdaftar\nRUU tentang Pinjaman Daerah\nTerdaftar\nRUU tentang Perubahan atas Undang-Undang Nomor 1 Tahun 2016 tentang Penjaminan\nTerdaftar\nRUU tentang Perubahan atas Undang-Undang Nomor 20 Tahun 2014 tentang Standarisasi dan Penilaian Kesesuaian\nTerdaftar\nRUU tentang Perubahan atas Undang-Undang Nomor 1 Tahun 2013 tentang Lembaga Keuangan Mikro\nTerdaftar\nRancangan Undang-Undang tentang Perubahan atas Undang-Undang Nomor 32 Tahun 2014 tentang Kelautan\nTerdaftar\nRancangan Undang-Undang tentang Perlindungan dan Pelestarian Budaya Adat Kerajaan Nusantara\nTerdaftar\nRancangan Undang-Undang tentang Pemerintahan Digital\nTerdaftar\n",
     "output_type": "stream"
    }
   ]
  },
  {
   "cell_type": "code",
   "metadata": {
    "tags": [],
    "deepnote_to_be_reexecuted": false,
    "source_hash": "abdf346a",
    "execution_start": 1661556181369,
    "execution_millis": 23,
    "cell_id": "00023-fd764a22-1101-4dc0-a4d1-351e046c6f19",
    "deepnote_cell_type": "code"
   },
   "source": "df2019_main = pd.DataFrame(data2019, columns=['Judul Ruu', 'Tanggal Diupdate', 'Pengusul', 'Status', 'Prioritas'])\ndf2019_main.head()",
   "execution_count": 14,
   "outputs": [
    {
     "output_type": "execute_result",
     "execution_count": 14,
     "data": {
      "application/vnd.deepnote.dataframe.v3+json": {
       "column_count": 5,
       "row_count": 5,
       "columns": [
        {
         "name": "Judul Ruu",
         "dtype": "object",
         "stats": {
          "unique_count": 5,
          "nan_count": 0,
          "categories": [
           {
            "name": "RUU tentang Perubahan atas Undang-Undang Nomor 24 Tahun 2000 tentang Perjanjian Internasional",
            "count": 1
           },
           {
            "name": "RUU tentang Perubahan atas Undang-Undang Nomor 37 Tahun 1999 tentang Hubungan Luar Negeri",
            "count": 1
           },
           {
            "name": "3 others",
            "count": 3
           }
          ]
         }
        },
        {
         "name": "Tanggal Diupdate",
         "dtype": "object",
         "stats": {
          "unique_count": 3,
          "nan_count": 0,
          "categories": [
           {
            "name": "27 Agust 2022",
            "count": 3
           },
           {
            "name": "08 Des 2016",
            "count": 1
           },
           {
            "name": "28 Mei 2019",
            "count": 1
           }
          ]
         }
        },
        {
         "name": "Pengusul",
         "dtype": "object",
         "stats": {
          "unique_count": 3,
          "nan_count": 0,
          "categories": [
           {
            "name": "DPR, PEMERINTAH",
            "count": 3
           },
           {
            "name": "PEMERINTAH",
            "count": 1
           },
           {
            "name": "DPR",
            "count": 1
           }
          ]
         }
        },
        {
         "name": "Status",
         "dtype": "object",
         "stats": {
          "unique_count": 3,
          "nan_count": 0,
          "categories": [
           {
            "name": "Terdaftar",
            "count": 3
           },
           {
            "name": "Selesai",
            "count": 1
           },
           {
            "name": "Penyusunan",
            "count": 1
           }
          ]
         }
        },
        {
         "name": "Prioritas",
         "dtype": "object",
         "stats": {
          "unique_count": 2,
          "nan_count": 0,
          "categories": [
           {
            "name": "Tidak",
            "count": 3
           },
           {
            "name": "Ya",
            "count": 2
           }
          ]
         }
        },
        {
         "name": "_deepnote_index_column",
         "dtype": "int64"
        }
       ],
       "rows": [
        {
         "Judul Ruu": "RUU tentang Perubahan atas Undang-Undang Nomor 24 Tahun 2000 tentang Perjanjian Internasional",
         "Tanggal Diupdate": "27 Agust 2022",
         "Pengusul": "DPR, PEMERINTAH",
         "Status": "Terdaftar",
         "Prioritas": "Tidak",
         "_deepnote_index_column": 0
        },
        {
         "Judul Ruu": "RUU tentang Perubahan atas Undang-Undang Nomor 37 Tahun 1999 tentang Hubungan Luar Negeri",
         "Tanggal Diupdate": "27 Agust 2022",
         "Pengusul": "DPR, PEMERINTAH",
         "Status": "Terdaftar",
         "Prioritas": "Tidak",
         "_deepnote_index_column": 1
        },
        {
         "Judul Ruu": "RUU tentang Perubahan atas Undang - Undang Nomor 11 Tahun 2008 tentang Informasi dan Transaksi Elektronik (ITE)",
         "Tanggal Diupdate": "08 Des 2016",
         "Pengusul": "PEMERINTAH",
         "Status": "Selesai",
         "Prioritas": "Ya",
         "_deepnote_index_column": 2
        },
        {
         "Judul Ruu": "RUU tentang Persandian",
         "Tanggal Diupdate": "27 Agust 2022",
         "Pengusul": "DPR, PEMERINTAH",
         "Status": "Terdaftar",
         "Prioritas": "Tidak",
         "_deepnote_index_column": 3
        },
        {
         "Judul Ruu": "RUU tentang Keamanan dan Ketahanan Siber",
         "Tanggal Diupdate": "28 Mei 2019",
         "Pengusul": "DPR",
         "Status": "Penyusunan",
         "Prioritas": "Ya",
         "_deepnote_index_column": 4
        }
       ]
      },
      "text/plain": "                                           Judul Ruu Tanggal Diupdate  \\\n0  RUU tentang Perubahan atas Undang-Undang Nomor...    27 Agust 2022   \n1  RUU tentang Perubahan atas Undang-Undang Nomor...    27 Agust 2022   \n2  RUU tentang Perubahan atas Undang - Undang Nom...      08 Des 2016   \n3                             RUU tentang Persandian    27 Agust 2022   \n4           RUU tentang Keamanan dan Ketahanan Siber      28 Mei 2019   \n\n          Pengusul      Status Prioritas  \n0  DPR, PEMERINTAH   Terdaftar     Tidak  \n1  DPR, PEMERINTAH   Terdaftar     Tidak  \n2       PEMERINTAH     Selesai        Ya  \n3  DPR, PEMERINTAH   Terdaftar     Tidak  \n4              DPR  Penyusunan        Ya  ",
      "text/html": "<div>\n<style scoped>\n    .dataframe tbody tr th:only-of-type {\n        vertical-align: middle;\n    }\n\n    .dataframe tbody tr th {\n        vertical-align: top;\n    }\n\n    .dataframe thead th {\n        text-align: right;\n    }\n</style>\n<table border=\"1\" class=\"dataframe\">\n  <thead>\n    <tr style=\"text-align: right;\">\n      <th></th>\n      <th>Judul Ruu</th>\n      <th>Tanggal Diupdate</th>\n      <th>Pengusul</th>\n      <th>Status</th>\n      <th>Prioritas</th>\n    </tr>\n  </thead>\n  <tbody>\n    <tr>\n      <th>0</th>\n      <td>RUU tentang Perubahan atas Undang-Undang Nomor...</td>\n      <td>27 Agust 2022</td>\n      <td>DPR, PEMERINTAH</td>\n      <td>Terdaftar</td>\n      <td>Tidak</td>\n    </tr>\n    <tr>\n      <th>1</th>\n      <td>RUU tentang Perubahan atas Undang-Undang Nomor...</td>\n      <td>27 Agust 2022</td>\n      <td>DPR, PEMERINTAH</td>\n      <td>Terdaftar</td>\n      <td>Tidak</td>\n    </tr>\n    <tr>\n      <th>2</th>\n      <td>RUU tentang Perubahan atas Undang - Undang Nom...</td>\n      <td>08 Des 2016</td>\n      <td>PEMERINTAH</td>\n      <td>Selesai</td>\n      <td>Ya</td>\n    </tr>\n    <tr>\n      <th>3</th>\n      <td>RUU tentang Persandian</td>\n      <td>27 Agust 2022</td>\n      <td>DPR, PEMERINTAH</td>\n      <td>Terdaftar</td>\n      <td>Tidak</td>\n    </tr>\n    <tr>\n      <th>4</th>\n      <td>RUU tentang Keamanan dan Ketahanan Siber</td>\n      <td>28 Mei 2019</td>\n      <td>DPR</td>\n      <td>Penyusunan</td>\n      <td>Ya</td>\n    </tr>\n  </tbody>\n</table>\n</div>"
     },
     "metadata": {}
    }
   ]
  },
  {
   "cell_type": "code",
   "metadata": {
    "tags": [],
    "deepnote_to_be_reexecuted": false,
    "source_hash": "c8f24edd",
    "execution_start": 1661556181419,
    "execution_millis": 30,
    "cell_id": "00024-97ca692a-e9c9-4618-bd30-570bdfde976c",
    "deepnote_cell_type": "code"
   },
   "source": "df2024_main = pd.DataFrame(data2024, columns=['Judul Ruu', 'Tanggal Diupdate', 'Pengusul', 'Status', 'Prioritas'])\ndf2024_main.head()",
   "execution_count": 15,
   "outputs": [
    {
     "output_type": "execute_result",
     "execution_count": 15,
     "data": {
      "application/vnd.deepnote.dataframe.v3+json": {
       "column_count": 5,
       "row_count": 5,
       "columns": [
        {
         "name": "Judul Ruu",
         "dtype": "object",
         "stats": {
          "unique_count": 5,
          "nan_count": 0,
          "categories": [
           {
            "name": "RUU tentang Keamanan dan Ketahanan Siber",
            "count": 1
           },
           {
            "name": "RUU tentang Perubahan atas Undang-Undang Nomor 32 Tahun 2002 tentang Penyiaran",
            "count": 1
           },
           {
            "name": "3 others",
            "count": 3
           }
          ]
         }
        },
        {
         "name": "Tanggal Diupdate",
         "dtype": "object",
         "stats": {
          "unique_count": 1,
          "nan_count": 0,
          "categories": [
           {
            "name": "27 Agust 2022",
            "count": 5
           }
          ]
         }
        },
        {
         "name": "Pengusul",
         "dtype": "object",
         "stats": {
          "unique_count": 1,
          "nan_count": 0,
          "categories": [
           {
            "name": "DPR",
            "count": 5
           }
          ]
         }
        },
        {
         "name": "Status",
         "dtype": "object",
         "stats": {
          "unique_count": 2,
          "nan_count": 0,
          "categories": [
           {
            "name": "Terdaftar",
            "count": 4
           },
           {
            "name": "Penyusunan",
            "count": 1
           }
          ]
         }
        },
        {
         "name": "Prioritas",
         "dtype": "object",
         "stats": {
          "unique_count": 2,
          "nan_count": 0,
          "categories": [
           {
            "name": "Ya",
            "count": 3
           },
           {
            "name": "Tidak",
            "count": 2
           }
          ]
         }
        },
        {
         "name": "_deepnote_index_column",
         "dtype": "int64"
        }
       ],
       "rows": [
        {
         "Judul Ruu": "RUU tentang Keamanan dan Ketahanan Siber",
         "Tanggal Diupdate": "27 Agust 2022",
         "Pengusul": "DPR",
         "Status": "Terdaftar",
         "Prioritas": "Ya",
         "_deepnote_index_column": 0
        },
        {
         "Judul Ruu": "RUU tentang Perubahan atas Undang-Undang Nomor 32 Tahun 2002 tentang Penyiaran",
         "Tanggal Diupdate": "27 Agust 2022",
         "Pengusul": "DPR",
         "Status": "Penyusunan",
         "Prioritas": "Ya",
         "_deepnote_index_column": 1
        },
        {
         "Judul Ruu": "RUU tentang Radio Televisi Republik Indonesia",
         "Tanggal Diupdate": "27 Agust 2022",
         "Pengusul": "DPR",
         "Status": "Terdaftar",
         "Prioritas": "Ya",
         "_deepnote_index_column": 2
        },
        {
         "Judul Ruu": "RUU tentang Keamanan Laut",
         "Tanggal Diupdate": "27 Agust 2022",
         "Pengusul": "DPR",
         "Status": "Terdaftar",
         "Prioritas": "Tidak",
         "_deepnote_index_column": 3
        },
        {
         "Judul Ruu": "RUU tentang Perubahan atas Undang-Undang Nomor 3 Tahun 2002 tentang Pertahanan",
         "Tanggal Diupdate": "27 Agust 2022",
         "Pengusul": "DPR",
         "Status": "Terdaftar",
         "Prioritas": "Tidak",
         "_deepnote_index_column": 4
        }
       ]
      },
      "text/plain": "                                           Judul Ruu Tanggal Diupdate  \\\n0           RUU tentang Keamanan dan Ketahanan Siber    27 Agust 2022   \n1  RUU tentang Perubahan atas Undang-Undang Nomor...    27 Agust 2022   \n2      RUU tentang Radio Televisi Republik Indonesia    27 Agust 2022   \n3                          RUU tentang Keamanan Laut    27 Agust 2022   \n4  RUU tentang Perubahan atas Undang-Undang Nomor...    27 Agust 2022   \n\n  Pengusul      Status Prioritas  \n0      DPR   Terdaftar        Ya  \n1      DPR  Penyusunan        Ya  \n2      DPR   Terdaftar        Ya  \n3      DPR   Terdaftar     Tidak  \n4      DPR   Terdaftar     Tidak  ",
      "text/html": "<div>\n<style scoped>\n    .dataframe tbody tr th:only-of-type {\n        vertical-align: middle;\n    }\n\n    .dataframe tbody tr th {\n        vertical-align: top;\n    }\n\n    .dataframe thead th {\n        text-align: right;\n    }\n</style>\n<table border=\"1\" class=\"dataframe\">\n  <thead>\n    <tr style=\"text-align: right;\">\n      <th></th>\n      <th>Judul Ruu</th>\n      <th>Tanggal Diupdate</th>\n      <th>Pengusul</th>\n      <th>Status</th>\n      <th>Prioritas</th>\n    </tr>\n  </thead>\n  <tbody>\n    <tr>\n      <th>0</th>\n      <td>RUU tentang Keamanan dan Ketahanan Siber</td>\n      <td>27 Agust 2022</td>\n      <td>DPR</td>\n      <td>Terdaftar</td>\n      <td>Ya</td>\n    </tr>\n    <tr>\n      <th>1</th>\n      <td>RUU tentang Perubahan atas Undang-Undang Nomor...</td>\n      <td>27 Agust 2022</td>\n      <td>DPR</td>\n      <td>Penyusunan</td>\n      <td>Ya</td>\n    </tr>\n    <tr>\n      <th>2</th>\n      <td>RUU tentang Radio Televisi Republik Indonesia</td>\n      <td>27 Agust 2022</td>\n      <td>DPR</td>\n      <td>Terdaftar</td>\n      <td>Ya</td>\n    </tr>\n    <tr>\n      <th>3</th>\n      <td>RUU tentang Keamanan Laut</td>\n      <td>27 Agust 2022</td>\n      <td>DPR</td>\n      <td>Terdaftar</td>\n      <td>Tidak</td>\n    </tr>\n    <tr>\n      <th>4</th>\n      <td>RUU tentang Perubahan atas Undang-Undang Nomor...</td>\n      <td>27 Agust 2022</td>\n      <td>DPR</td>\n      <td>Terdaftar</td>\n      <td>Tidak</td>\n    </tr>\n  </tbody>\n</table>\n</div>"
     },
     "metadata": {}
    }
   ]
  },
  {
   "cell_type": "code",
   "metadata": {
    "tags": [],
    "deepnote_to_be_reexecuted": false,
    "source_hash": "a88d222f",
    "execution_start": 1661556181453,
    "execution_millis": 6,
    "cell_id": "00025-0c33b66b-19c6-4f92-be9e-b355e248dce6",
    "deepnote_cell_type": "code"
   },
   "source": "print(len(df2019_main))\nprint(len(df2024_main))",
   "execution_count": 16,
   "outputs": [
    {
     "name": "stdout",
     "text": "190\n256\n",
     "output_type": "stream"
    }
   ]
  },
  {
   "cell_type": "markdown",
   "source": "<a style='text-decoration:none;line-height:16px;display:flex;color:#5B5B62;padding:10px;justify-content:end;' href='https://deepnote.com?utm_source=created-in-deepnote-cell&projectId=45b28f99-d503-49a3-bd9e-f98821f9fde8' target=\"_blank\">\n<img alt='Created in deepnote.com' style='display:inline;max-height:16px;margin:0px;margin-right:7.5px;' src='data:image/svg+xml;base64,PD94bWwgdmVyc2lvbj0iMS4wIiBlbmNvZGluZz0iVVRGLTgiPz4KPHN2ZyB3aWR0aD0iODBweCIgaGVpZ2h0PSI4MHB4IiB2aWV3Qm94PSIwIDAgODAgODAiIHZlcnNpb249IjEuMSIgeG1sbnM9Imh0dHA6Ly93d3cudzMub3JnLzIwMDAvc3ZnIiB4bWxuczp4bGluaz0iaHR0cDovL3d3dy53My5vcmcvMTk5OS94bGluayI+CiAgICA8IS0tIEdlbmVyYXRvcjogU2tldGNoIDU0LjEgKDc2NDkwKSAtIGh0dHBzOi8vc2tldGNoYXBwLmNvbSAtLT4KICAgIDx0aXRsZT5Hcm91cCAzPC90aXRsZT4KICAgIDxkZXNjPkNyZWF0ZWQgd2l0aCBTa2V0Y2guPC9kZXNjPgogICAgPGcgaWQ9IkxhbmRpbmciIHN0cm9rZT0ibm9uZSIgc3Ryb2tlLXdpZHRoPSIxIiBmaWxsPSJub25lIiBmaWxsLXJ1bGU9ImV2ZW5vZGQiPgogICAgICAgIDxnIGlkPSJBcnRib2FyZCIgdHJhbnNmb3JtPSJ0cmFuc2xhdGUoLTEyMzUuMDAwMDAwLCAtNzkuMDAwMDAwKSI+CiAgICAgICAgICAgIDxnIGlkPSJHcm91cC0zIiB0cmFuc2Zvcm09InRyYW5zbGF0ZSgxMjM1LjAwMDAwMCwgNzkuMDAwMDAwKSI+CiAgICAgICAgICAgICAgICA8cG9seWdvbiBpZD0iUGF0aC0yMCIgZmlsbD0iIzAyNjVCNCIgcG9pbnRzPSIyLjM3NjIzNzYyIDgwIDM4LjA0NzY2NjcgODAgNTcuODIxNzgyMiA3My44MDU3NTkyIDU3LjgyMTc4MjIgMzIuNzU5MjczOSAzOS4xNDAyMjc4IDMxLjY4MzE2ODMiPjwvcG9seWdvbj4KICAgICAgICAgICAgICAgIDxwYXRoIGQ9Ik0zNS4wMDc3MTgsODAgQzQyLjkwNjIwMDcsNzYuNDU0OTM1OCA0Ny41NjQ5MTY3LDcxLjU0MjI2NzEgNDguOTgzODY2LDY1LjI2MTk5MzkgQzUxLjExMjI4OTksNTUuODQxNTg0MiA0MS42NzcxNzk1LDQ5LjIxMjIyODQgMjUuNjIzOTg0Niw0OS4yMTIyMjg0IEMyNS40ODQ5Mjg5LDQ5LjEyNjg0NDggMjkuODI2MTI5Niw0My4yODM4MjQ4IDM4LjY0NzU4NjksMzEuNjgzMTY4MyBMNzIuODcxMjg3MSwzMi41NTQ0MjUgTDY1LjI4MDk3Myw2Ny42NzYzNDIxIEw1MS4xMTIyODk5LDc3LjM3NjE0NCBMMzUuMDA3NzE4LDgwIFoiIGlkPSJQYXRoLTIyIiBmaWxsPSIjMDAyODY4Ij48L3BhdGg+CiAgICAgICAgICAgICAgICA8cGF0aCBkPSJNMCwzNy43MzA0NDA1IEwyNy4xMTQ1MzcsMC4yNTcxMTE0MzYgQzYyLjM3MTUxMjMsLTEuOTkwNzE3MDEgODAsMTAuNTAwMzkyNyA4MCwzNy43MzA0NDA1IEM4MCw2NC45NjA0ODgyIDY0Ljc3NjUwMzgsNzkuMDUwMzQxNCAzNC4zMjk1MTEzLDgwIEM0Ny4wNTUzNDg5LDc3LjU2NzA4MDggNTMuNDE4MjY3Nyw3MC4zMTM2MTAzIDUzLjQxODI2NzcsNTguMjM5NTg4NSBDNTMuNDE4MjY3Nyw0MC4xMjg1NTU3IDM2LjMwMzk1NDQsMzcuNzMwNDQwNSAyNS4yMjc0MTcsMzcuNzMwNDQwNSBDMTcuODQzMDU4NiwzNy43MzA0NDA1IDkuNDMzOTE5NjYsMzcuNzMwNDQwNSAwLDM3LjczMDQ0MDUgWiIgaWQ9IlBhdGgtMTkiIGZpbGw9IiMzNzkzRUYiPjwvcGF0aD4KICAgICAgICAgICAgPC9nPgogICAgICAgIDwvZz4KICAgIDwvZz4KPC9zdmc+' > </img>\nCreated in <span style='font-weight:600;margin-left:4px;'>Deepnote</span></a>",
   "metadata": {
    "tags": [],
    "created_in_deepnote_cell": true,
    "deepnote_cell_type": "markdown"
   }
  }
 ],
 "nbformat": 4,
 "nbformat_minor": 2,
 "metadata": {
  "orig_nbformat": 2,
  "deepnote": {},
  "deepnote_notebook_id": "a63ff6cf-d596-48d7-ae2c-119a3c4f493c",
  "deepnote_execution_queue": []
 }
}