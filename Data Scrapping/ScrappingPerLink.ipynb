{
 "cells": [
  {
   "cell_type": "code",
   "metadata": {
    "tags": [],
    "deepnote_to_be_reexecuted": false,
    "source_hash": "e442612b",
    "execution_start": 1661556578017,
    "execution_millis": 73,
    "cell_id": "edd5f975-f109-4ff0-a419-f40cb762ffd2",
    "deepnote_cell_type": "code",
    "deepnote_cell_height": 148
   },
   "source": "import requests\nfrom bs4 import BeautifulSoup\nimport csv\nimport pandas as pd\nimport os",
   "execution_count": 1,
   "outputs": []
  },
  {
   "cell_type": "markdown",
   "source": "## Prioritas Scrapping",
   "metadata": {
    "formattedRanges": [],
    "is_collapsed": false,
    "cell_id": "991bf333f4c34225a3d9a5107a7959d6",
    "tags": [],
    "deepnote_cell_type": "text-cell-h2"
   }
  },
  {
   "cell_type": "code",
   "metadata": {
    "cell_id": "512db2d290bd4e168f56f41c62e1dc38",
    "tags": [],
    "deepnote_to_be_reexecuted": false,
    "source_hash": "c5f1e31",
    "execution_start": 1661556578096,
    "execution_millis": 2,
    "deepnote_cell_type": "code",
    "deepnote_cell_height": 76
   },
   "source": "path_of_the_directory= '/work/Prioritas'",
   "execution_count": 2,
   "outputs": []
  },
  {
   "cell_type": "code",
   "metadata": {
    "cell_id": "774f6219f5934e9b88f11a8e460fde12",
    "tags": [],
    "deepnote_to_be_reexecuted": false,
    "source_hash": "f8d6d2a1",
    "execution_start": 1661556578104,
    "execution_millis": 924,
    "deepnote_cell_type": "code",
    "deepnote_cell_height": 418
   },
   "source": "prioritas2024 = []\nprioritas2019 = []\nfor filename in os.listdir(path_of_the_directory):\n    fname = path_of_the_directory + '/' + filename\n    f = open(fname, 'r')\n    soup= BeautifulSoup(f.read(), 'html.parser')\n    items = soup.find_all('tr', {'role':'row'})[1:-1]\n    year = filename[:4]\n    for item in items:\n        name = item.find('a').text.strip()\n        info = item.find_all('td')\n        date = info[4].text.strip()\n        sponsor = info[9].text.strip()\n        status = info[5].text.strip()\n        data = [name, date, sponsor, status, year]\n        category = info[7].text\n        if category == 'Prolegnas 2015-2019':\n            prioritas2019.append(data)\n        else:\n            prioritas2024.append(data) ",
   "execution_count": 3,
   "outputs": []
  },
  {
   "cell_type": "code",
   "metadata": {
    "cell_id": "da63a1936edf472c9e5d0780dd5813ee",
    "tags": [],
    "deepnote_to_be_reexecuted": false,
    "source_hash": "be961c6a",
    "execution_start": 1661556579043,
    "execution_millis": 26,
    "deepnote_cell_type": "code",
    "deepnote_cell_height": 413
   },
   "source": "df2019_prioritas_raw = pd.DataFrame(prioritas2019, columns=['Judul Ruu', 'Tanggal Diupdate', 'Pengusul', 'Status', 'Tahun Prioritas'])\ndf2019_prioritas_raw.head()",
   "execution_count": 4,
   "outputs": [
    {
     "output_type": "execute_result",
     "execution_count": 4,
     "data": {
      "application/vnd.deepnote.dataframe.v3+json": {
       "column_count": 5,
       "row_count": 5,
       "columns": [
        {
         "name": "Judul Ruu",
         "dtype": "object",
         "stats": {
          "unique_count": 5,
          "nan_count": 0,
          "categories": [
           {
            "name": "RUU tentang Perubahan atas Undang-Undang Nomor 32 Tahun 2002 tentang Penyiaran",
            "count": 1
           },
           {
            "name": "RUU tentang Radio Televisi Republik Indonesia",
            "count": 1
           },
           {
            "name": "3 others",
            "count": 3
           }
          ]
         }
        },
        {
         "name": "Tanggal Diupdate",
         "dtype": "object",
         "stats": {
          "unique_count": 5,
          "nan_count": 0,
          "categories": [
           {
            "name": "10 Mar 2020",
            "count": 1
           },
           {
            "name": "07 Feb 2018",
            "count": 1
           },
           {
            "name": "3 others",
            "count": 3
           }
          ]
         }
        },
        {
         "name": "Pengusul",
         "dtype": "object",
         "stats": {
          "unique_count": 3,
          "nan_count": 0,
          "categories": [
           {
            "name": "DPR",
            "count": 3
           },
           {
            "name": "PEMERINTAH",
            "count": 1
           },
           {
            "name": "DPD",
            "count": 1
           }
          ]
         }
        },
        {
         "name": "Status",
         "dtype": "object",
         "stats": {
          "unique_count": 4,
          "nan_count": 0,
          "categories": [
           {
            "name": "Pembahasan",
            "count": 2
           },
           {
            "name": "Harmonisasi",
            "count": 1
           },
           {
            "name": "2 others",
            "count": 2
           }
          ]
         }
        },
        {
         "name": "Tahun Prioritas",
         "dtype": "object",
         "stats": {
          "unique_count": 1,
          "nan_count": 0,
          "categories": [
           {
            "name": "2015",
            "count": 5
           }
          ]
         }
        },
        {
         "name": "_deepnote_index_column",
         "dtype": "int64"
        }
       ],
       "rows": [
        {
         "Judul Ruu": "RUU tentang Perubahan atas Undang-Undang Nomor 32 Tahun 2002 tentang Penyiaran",
         "Tanggal Diupdate": "10 Mar 2020",
         "Pengusul": "DPR",
         "Status": "Harmonisasi",
         "Tahun Prioritas": "2015",
         "_deepnote_index_column": 0
        },
        {
         "Judul Ruu": "RUU tentang Radio Televisi Republik Indonesia",
         "Tanggal Diupdate": "07 Feb 2018",
         "Pengusul": "DPR",
         "Status": "Penyusunan",
         "Tahun Prioritas": "2015",
         "_deepnote_index_column": 1
        },
        {
         "Judul Ruu": "RUU tentang Perubahan atas Undang - Undang Nomor 11 Tahun 2008 tentang Informasi dan Transaksi Elektronik (ITE)",
         "Tanggal Diupdate": "08 Des 2016",
         "Pengusul": "PEMERINTAH",
         "Status": "Selesai",
         "Tahun Prioritas": "2015",
         "_deepnote_index_column": 2
        },
        {
         "Judul Ruu": "RUU tentang Wawasan Nusantara",
         "Tanggal Diupdate": "24 Okt 2016",
         "Pengusul": "DPD",
         "Status": "Pembahasan",
         "Tahun Prioritas": "2015",
         "_deepnote_index_column": 3
        },
        {
         "Judul Ruu": "RUU tentang Pertanahan",
         "Tanggal Diupdate": "09 Sep 2019",
         "Pengusul": "DPR",
         "Status": "Pembahasan",
         "Tahun Prioritas": "2015",
         "_deepnote_index_column": 4
        }
       ]
      },
      "text/plain": "                                           Judul Ruu Tanggal Diupdate  \\\n0  RUU tentang Perubahan atas Undang-Undang Nomor...      10 Mar 2020   \n1      RUU tentang Radio Televisi Republik Indonesia      07 Feb 2018   \n2  RUU tentang Perubahan atas Undang - Undang Nom...      08 Des 2016   \n3                      RUU tentang Wawasan Nusantara      24 Okt 2016   \n4                             RUU tentang Pertanahan      09 Sep 2019   \n\n     Pengusul       Status Tahun Prioritas  \n0         DPR  Harmonisasi            2015  \n1         DPR   Penyusunan            2015  \n2  PEMERINTAH      Selesai            2015  \n3         DPD   Pembahasan            2015  \n4         DPR   Pembahasan            2015  ",
      "text/html": "<div>\n<style scoped>\n    .dataframe tbody tr th:only-of-type {\n        vertical-align: middle;\n    }\n\n    .dataframe tbody tr th {\n        vertical-align: top;\n    }\n\n    .dataframe thead th {\n        text-align: right;\n    }\n</style>\n<table border=\"1\" class=\"dataframe\">\n  <thead>\n    <tr style=\"text-align: right;\">\n      <th></th>\n      <th>Judul Ruu</th>\n      <th>Tanggal Diupdate</th>\n      <th>Pengusul</th>\n      <th>Status</th>\n      <th>Tahun Prioritas</th>\n    </tr>\n  </thead>\n  <tbody>\n    <tr>\n      <th>0</th>\n      <td>RUU tentang Perubahan atas Undang-Undang Nomor...</td>\n      <td>10 Mar 2020</td>\n      <td>DPR</td>\n      <td>Harmonisasi</td>\n      <td>2015</td>\n    </tr>\n    <tr>\n      <th>1</th>\n      <td>RUU tentang Radio Televisi Republik Indonesia</td>\n      <td>07 Feb 2018</td>\n      <td>DPR</td>\n      <td>Penyusunan</td>\n      <td>2015</td>\n    </tr>\n    <tr>\n      <th>2</th>\n      <td>RUU tentang Perubahan atas Undang - Undang Nom...</td>\n      <td>08 Des 2016</td>\n      <td>PEMERINTAH</td>\n      <td>Selesai</td>\n      <td>2015</td>\n    </tr>\n    <tr>\n      <th>3</th>\n      <td>RUU tentang Wawasan Nusantara</td>\n      <td>24 Okt 2016</td>\n      <td>DPD</td>\n      <td>Pembahasan</td>\n      <td>2015</td>\n    </tr>\n    <tr>\n      <th>4</th>\n      <td>RUU tentang Pertanahan</td>\n      <td>09 Sep 2019</td>\n      <td>DPR</td>\n      <td>Pembahasan</td>\n      <td>2015</td>\n    </tr>\n  </tbody>\n</table>\n</div>"
     },
     "metadata": {}
    }
   ]
  },
  {
   "cell_type": "code",
   "metadata": {
    "cell_id": "3da77cdce505449fafe435307e7db20e",
    "tags": [],
    "deepnote_to_be_reexecuted": false,
    "source_hash": "637deea6",
    "execution_start": 1661556579075,
    "execution_millis": 15,
    "deepnote_cell_type": "code",
    "deepnote_cell_height": 179.1875
   },
   "source": "#remove duplicate\ndf2019_prioritas = df2019_prioritas_raw.copy()\ndf2019_prioritas = df2019_prioritas.sort_values('Tahun Prioritas', ascending=False)\ndf2019_prioritas = df2019_prioritas.drop_duplicates(subset='Judul Ruu', keep='first')\nprint(len(df2019_prioritas))",
   "execution_count": 5,
   "outputs": [
    {
     "name": "stdout",
     "text": "103\n",
     "output_type": "stream"
    }
   ]
  },
  {
   "cell_type": "code",
   "metadata": {
    "cell_id": "6b32f6ce30fa42c9a70496e2f131ccd1",
    "tags": [],
    "deepnote_to_be_reexecuted": false,
    "source_hash": "8de014e2",
    "execution_start": 1661556579117,
    "execution_millis": 5,
    "deepnote_cell_type": "code",
    "deepnote_cell_height": 618
   },
   "source": "df2024_prioritas_raw = pd.DataFrame(prioritas2024, columns=['Judul Ruu', 'Tanggal Diupdate', 'Pengusul', 'Status', 'Tahun Prioritas'])\ndf2024_prioritas_raw",
   "execution_count": 6,
   "outputs": [
    {
     "output_type": "execute_result",
     "execution_count": 6,
     "data": {
      "application/vnd.deepnote.dataframe.v3+json": {
       "column_count": 5,
       "row_count": 114,
       "columns": [
        {
         "name": "Judul Ruu",
         "dtype": "object",
         "stats": {
          "unique_count": 66,
          "nan_count": 0,
          "categories": [
           {
            "name": "RUU tentang Kitab Undang-Undang Hukum Pidana",
            "count": 3
           },
           {
            "name": "RUU tentang Perubahan atas Undang-Undang Nomor 12 Tahun 1995 tentang Pemasyarakatan",
            "count": 3
           },
           {
            "name": "64 others",
            "count": 108
           }
          ]
         }
        },
        {
         "name": "Tanggal Diupdate",
         "dtype": "object",
         "stats": {
          "unique_count": 33,
          "nan_count": 0,
          "categories": [
           {
            "name": "23 Agust 2022",
            "count": 29
           },
           {
            "name": "17 Des 2021",
            "count": 7
           },
           {
            "name": "31 others",
            "count": 78
           }
          ]
         }
        },
        {
         "name": "Pengusul",
         "dtype": "object",
         "stats": {
          "unique_count": 4,
          "nan_count": 0,
          "categories": [
           {
            "name": "DPR",
            "count": 65
           },
           {
            "name": "PEMERINTAH",
            "count": 33
           },
           {
            "name": "2 others",
            "count": 16
           }
          ]
         }
        },
        {
         "name": "Status",
         "dtype": "object",
         "stats": {
          "unique_count": 6,
          "nan_count": 0,
          "categories": [
           {
            "name": "Pembahasan",
            "count": 33
           },
           {
            "name": "Selesai",
            "count": 30
           },
           {
            "name": "4 others",
            "count": 51
           }
          ]
         }
        },
        {
         "name": "Tahun Prioritas",
         "dtype": "object",
         "stats": {
          "unique_count": 3,
          "nan_count": 0,
          "categories": [
           {
            "name": "2022",
            "count": 40
           },
           {
            "name": "2020",
            "count": 37
           },
           {
            "name": "2021",
            "count": 37
           }
          ]
         }
        },
        {
         "name": "_deepnote_index_column",
         "dtype": "int64"
        }
       ],
       "rows": [
        {
         "Judul Ruu": "RUUtentang Perubahan atas Undang-Undang Nomor 7 Tahun 2017 tentang Pemilihan Umum",
         "Tanggal Diupdate": "20 Jan 2021",
         "Pengusul": "DPR",
         "Status": "Harmonisasi",
         "Tahun Prioritas": "2020",
         "_deepnote_index_column": 0
        },
        {
         "Judul Ruu": "RUU tentang Kitab Undang-Undang Hukum Pidana",
         "Tanggal Diupdate": "06 Jul 2022",
         "Pengusul": "DPR, PEMERINTAH",
         "Status": "Pembahasan",
         "Tahun Prioritas": "2020",
         "_deepnote_index_column": 1
        },
        {
         "Judul Ruu": "RUU tentang Perubahan atas Undang-Undang Nomor 12 Tahun 1995 tentang Pemasyarakatan",
         "Tanggal Diupdate": "07 Jul 2022",
         "Pengusul": "DPR, PEMERINTAH",
         "Status": "Pembahasan",
         "Tahun Prioritas": "2020",
         "_deepnote_index_column": 2
        },
        {
         "Judul Ruu": "RUU tentang Jabatan Hakim",
         "Tanggal Diupdate": "23 Agust 2022",
         "Pengusul": "DPR",
         "Status": "Terdaftar",
         "Tahun Prioritas": "2020",
         "_deepnote_index_column": 3
        },
        {
         "Judul Ruu": "RUU tentang Perubahan atas Undang-Undang Nomor 16 Tahun 2004 tentang Kejaksaan Republik Indonesia",
         "Tanggal Diupdate": "07 Des 2021",
         "Pengusul": "DPR, PEMERINTAH",
         "Status": "Selesai",
         "Tahun Prioritas": "2020",
         "_deepnote_index_column": 4
        },
        {
         "Judul Ruu": "RUU tentang Perubahan atas Undang-Undang Nomor 38 Tahun 2004 tentang Jalan",
         "Tanggal Diupdate": "17 Des 2021",
         "Pengusul": "DPR",
         "Status": "Selesai",
         "Tahun Prioritas": "2020",
         "_deepnote_index_column": 5
        },
        {
         "Judul Ruu": "RUU tentang Perubahan atas Undang-Undang Nomor 19 Tahun 2003 tentang Badan Usaha Milik Negara",
         "Tanggal Diupdate": "23 Agust 2022",
         "Pengusul": "DPR",
         "Status": "Harmonisasi",
         "Tahun Prioritas": "2020",
         "_deepnote_index_column": 6
        },
        {
         "Judul Ruu": "RUU tentang Perubahan atas Undang-Undang Nomor 4 Tahun 2009 tentang Pertambangan Mineral dan Batu Bara",
         "Tanggal Diupdate": "15 Mei 2020",
         "Pengusul": "DPR",
         "Status": "Selesai",
         "Tahun Prioritas": "2020",
         "_deepnote_index_column": 7
        },
        {
         "Judul Ruu": "RUU tentang Energi Baru dan Terbarukan",
         "Tanggal Diupdate": "14 Jun 2022",
         "Pengusul": "DPR",
         "Status": "Penetapan Usul",
         "Tahun Prioritas": "2020",
         "_deepnote_index_column": 8
        },
        {
         "Judul Ruu": "RUU tentang Perubahan atas Undang-Undang Nomor 24 Tahun 2007 tentang Penanggulangan Bencana",
         "Tanggal Diupdate": "13 Apr 2022",
         "Pengusul": "DPR",
         "Status": "Pembahasan",
         "Tahun Prioritas": "2020",
         "_deepnote_index_column": 9
        }
       ]
      },
      "text/plain": "                                             Judul Ruu Tanggal Diupdate  \\\n0    RUUtentang Perubahan atas Undang-Undang Nomor ...      20 Jan 2021   \n1         RUU tentang Kitab Undang-Undang Hukum Pidana      06 Jul 2022   \n2    RUU tentang Perubahan atas Undang-Undang Nomor...      07 Jul 2022   \n3                            RUU tentang Jabatan Hakim    23 Agust 2022   \n4    RUU tentang Perubahan atas Undang-Undang Nomor...      07 Des 2021   \n..                                                 ...              ...   \n109                                  RUU tentang Wabah    23 Agust 2022   \n110     RUU tentang Badan Pembinaan Ideologi Pancasila      12 Mei 2020   \n111                        RUU tentang Desain Industri    23 Agust 2022   \n112                       RUU tentang Daerah Kepulauan    23 Agust 2022   \n113                 RUU tentang Badan Usaha Milik Desa      27 Jan 2022   \n\n            Pengusul          Status Tahun Prioritas  \n0                DPR     Harmonisasi            2020  \n1    DPR, PEMERINTAH      Pembahasan            2020  \n2    DPR, PEMERINTAH      Pembahasan            2020  \n3                DPR       Terdaftar            2020  \n4    DPR, PEMERINTAH         Selesai            2020  \n..               ...             ...             ...  \n109       PEMERINTAH       Terdaftar            2022  \n110       PEMERINTAH  Penetapan Usul            2022  \n111       PEMERINTAH       Terdaftar            2022  \n112              DPD      Pembahasan            2022  \n113              DPD      Pembahasan            2022  \n\n[114 rows x 5 columns]",
      "text/html": "<div>\n<style scoped>\n    .dataframe tbody tr th:only-of-type {\n        vertical-align: middle;\n    }\n\n    .dataframe tbody tr th {\n        vertical-align: top;\n    }\n\n    .dataframe thead th {\n        text-align: right;\n    }\n</style>\n<table border=\"1\" class=\"dataframe\">\n  <thead>\n    <tr style=\"text-align: right;\">\n      <th></th>\n      <th>Judul Ruu</th>\n      <th>Tanggal Diupdate</th>\n      <th>Pengusul</th>\n      <th>Status</th>\n      <th>Tahun Prioritas</th>\n    </tr>\n  </thead>\n  <tbody>\n    <tr>\n      <th>0</th>\n      <td>RUUtentang Perubahan atas Undang-Undang Nomor ...</td>\n      <td>20 Jan 2021</td>\n      <td>DPR</td>\n      <td>Harmonisasi</td>\n      <td>2020</td>\n    </tr>\n    <tr>\n      <th>1</th>\n      <td>RUU tentang Kitab Undang-Undang Hukum Pidana</td>\n      <td>06 Jul 2022</td>\n      <td>DPR, PEMERINTAH</td>\n      <td>Pembahasan</td>\n      <td>2020</td>\n    </tr>\n    <tr>\n      <th>2</th>\n      <td>RUU tentang Perubahan atas Undang-Undang Nomor...</td>\n      <td>07 Jul 2022</td>\n      <td>DPR, PEMERINTAH</td>\n      <td>Pembahasan</td>\n      <td>2020</td>\n    </tr>\n    <tr>\n      <th>3</th>\n      <td>RUU tentang Jabatan Hakim</td>\n      <td>23 Agust 2022</td>\n      <td>DPR</td>\n      <td>Terdaftar</td>\n      <td>2020</td>\n    </tr>\n    <tr>\n      <th>4</th>\n      <td>RUU tentang Perubahan atas Undang-Undang Nomor...</td>\n      <td>07 Des 2021</td>\n      <td>DPR, PEMERINTAH</td>\n      <td>Selesai</td>\n      <td>2020</td>\n    </tr>\n    <tr>\n      <th>...</th>\n      <td>...</td>\n      <td>...</td>\n      <td>...</td>\n      <td>...</td>\n      <td>...</td>\n    </tr>\n    <tr>\n      <th>109</th>\n      <td>RUU tentang Wabah</td>\n      <td>23 Agust 2022</td>\n      <td>PEMERINTAH</td>\n      <td>Terdaftar</td>\n      <td>2022</td>\n    </tr>\n    <tr>\n      <th>110</th>\n      <td>RUU tentang Badan Pembinaan Ideologi Pancasila</td>\n      <td>12 Mei 2020</td>\n      <td>PEMERINTAH</td>\n      <td>Penetapan Usul</td>\n      <td>2022</td>\n    </tr>\n    <tr>\n      <th>111</th>\n      <td>RUU tentang Desain Industri</td>\n      <td>23 Agust 2022</td>\n      <td>PEMERINTAH</td>\n      <td>Terdaftar</td>\n      <td>2022</td>\n    </tr>\n    <tr>\n      <th>112</th>\n      <td>RUU tentang Daerah Kepulauan</td>\n      <td>23 Agust 2022</td>\n      <td>DPD</td>\n      <td>Pembahasan</td>\n      <td>2022</td>\n    </tr>\n    <tr>\n      <th>113</th>\n      <td>RUU tentang Badan Usaha Milik Desa</td>\n      <td>27 Jan 2022</td>\n      <td>DPD</td>\n      <td>Pembahasan</td>\n      <td>2022</td>\n    </tr>\n  </tbody>\n</table>\n<p>114 rows × 5 columns</p>\n</div>"
     },
     "metadata": {}
    }
   ]
  },
  {
   "cell_type": "code",
   "metadata": {
    "cell_id": "ca1d513c3f0b4c5b921cd332091ec627",
    "tags": [],
    "deepnote_to_be_reexecuted": false,
    "source_hash": "221f08e1",
    "execution_start": 1661556579130,
    "execution_millis": 4,
    "deepnote_cell_type": "code",
    "deepnote_cell_height": 179.1875
   },
   "source": "#remove duplicate\ndf2024_prioritas = df2024_prioritas_raw.copy()\ndf2024_prioritas = df2024_prioritas.sort_values('Tahun Prioritas', ascending=False)\ndf2024_prioritas = df2024_prioritas.drop_duplicates(subset='Judul Ruu', keep='first')\nprint(len(df2024_prioritas))",
   "execution_count": 7,
   "outputs": [
    {
     "name": "stdout",
     "text": "66\n",
     "output_type": "stream"
    }
   ]
  },
  {
   "cell_type": "code",
   "metadata": {
    "cell_id": "26d7855b850f4436823262ac7baa226d",
    "tags": [],
    "deepnote_to_be_reexecuted": false,
    "source_hash": "b6b5ec2c",
    "execution_start": 1661556579141,
    "execution_millis": 10,
    "deepnote_cell_type": "code",
    "deepnote_cell_height": 143.1875
   },
   "source": "prioritas2024_list = df2024_prioritas['Judul Ruu'].tolist()\nprioritas2019_list = df2019_prioritas['Judul Ruu'].tolist()\nprint('RUU tentang Jabatan Hakim' in prioritas2024_list)",
   "execution_count": 8,
   "outputs": [
    {
     "name": "stdout",
     "text": "True\n",
     "output_type": "stream"
    }
   ]
  },
  {
   "cell_type": "markdown",
   "source": "## Prolegnas Scrapping",
   "metadata": {
    "formattedRanges": [],
    "is_collapsed": false,
    "tags": [],
    "cell_id": "00001-3187ec41-6f7e-4281-b7a3-767d580aad84",
    "deepnote_cell_type": "text-cell-h2"
   }
  },
  {
   "cell_type": "code",
   "metadata": {
    "tags": [],
    "deepnote_to_be_reexecuted": false,
    "source_hash": "faaf3314",
    "execution_start": 1661556579203,
    "execution_millis": 204399942,
    "cell_id": "00002-17c2bb25-67c4-4a0c-a243-ad9160b8ccb9",
    "deepnote_cell_type": "code",
    "deepnote_cell_height": 189
   },
   "source": "def connectDPR(url):\n    headers = {\n        'user-agent' : 'Mozilla/5.0 (Windows NT 10.0; Win64; x64) AppleWebKit/537.36 (KHTML, like Gecko) Chrome/104.0.0.0 Safari/537.36'\n    }\n    req = requests.get(url, headers=headers)\n    print(req)\n    return BeautifulSoup(req.text, 'html.parser')",
   "execution_count": 9,
   "outputs": []
  },
  {
   "cell_type": "markdown",
   "source": "### Collecting all specific links of prolegnas ",
   "metadata": {
    "formattedRanges": [],
    "is_collapsed": false,
    "tags": [],
    "cell_id": "00003-e158a9a1-dad3-471f-a669-77e721039f87",
    "deepnote_cell_type": "text-cell-h3"
   }
  },
  {
   "cell_type": "code",
   "metadata": {
    "tags": [],
    "deepnote_to_be_reexecuted": false,
    "source_hash": "47ae7d3d",
    "execution_start": 1661556579204,
    "execution_millis": 1674,
    "cell_id": "00004-dbf2b90a-a4f2-4601-800e-091911f5bc22",
    "deepnote_cell_type": "code",
    "deepnote_cell_height": 161.1875
   },
   "source": "url24 = 'https://www.dpr.go.id/uu/prolegnas-long-list'\nsoup = connectDPR(url24)\nhead = soup.find('tbody')\nitems = head.find_all('tr', 'role' == 'row')",
   "execution_count": 10,
   "outputs": [
    {
     "name": "stdout",
     "text": "<Response [200]>\n",
     "output_type": "stream"
    }
   ]
  },
  {
   "cell_type": "code",
   "metadata": {
    "tags": [],
    "deepnote_to_be_reexecuted": false,
    "source_hash": "a68073df",
    "execution_start": 1661556580722,
    "execution_millis": 19,
    "cell_id": "00005-65940215-4a79-4217-8b5e-870fb6571b3f",
    "deepnote_cell_type": "code",
    "deepnote_cell_height": 238
   },
   "source": "links2024 = []\nlinks2019 = []\nmain = 'https://www.dpr.go.id'\nfor item in items:\n    category = item.find_all('td')[7].text.strip()\n    address = item.find('a', href=True)\n    if category == 'Prolegnas 2015-2019':\n        links2019.append(main + address['href'])\n    else:\n        links2024.append(main + address['href'])",
   "execution_count": 11,
   "outputs": []
  },
  {
   "cell_type": "code",
   "metadata": {
    "tags": [],
    "deepnote_to_be_reexecuted": false,
    "source_hash": "6a0b0a81",
    "execution_start": 1661556580746,
    "execution_millis": 0,
    "cell_id": "00006-492c80b7-b018-4823-830b-ad565c4ef82b",
    "deepnote_cell_type": "code",
    "deepnote_cell_height": 145.375
   },
   "source": "print(len(links2024))\nprint(len(links2019))",
   "execution_count": 12,
   "outputs": [
    {
     "name": "stdout",
     "text": "256\n190\n",
     "output_type": "stream"
    }
   ]
  },
  {
   "cell_type": "markdown",
   "source": "### Create a dataframe of prolegnas information from specific link",
   "metadata": {
    "formattedRanges": [],
    "is_collapsed": false,
    "tags": [],
    "cell_id": "00007-8a2b2d17-cc6a-4043-bf7a-7cc12200168c",
    "deepnote_cell_type": "text-cell-h3"
   }
  },
  {
   "cell_type": "code",
   "metadata": {
    "tags": [],
    "deepnote_to_be_reexecuted": false,
    "source_hash": "c110daaf",
    "execution_start": 1661556580799,
    "execution_millis": 782,
    "cell_id": "00008-9d9e00cd-dbf5-4d6a-a936-5ea0eba908fb",
    "deepnote_cell_type": "code",
    "deepnote_cell_height": 724
   },
   "source": "def recent_status(status_img, sponsors):\n    if 'DPR' in sponsors:\n        if ('grey' not in status_img[6]['src']):\n            status = 'Selesai'\n        elif ('grey' not in status_img[5]['src']):\n            status = 'Keputusan'\n        elif ('grey' not in status_img[4]['src']):\n            status = 'Pembahasan'\n        elif ('grey' not in status_img[3]['src']):\n            status = 'Penetapan Usul'\n        elif ('grey' not in status_img[2]['src']):\n            status = 'Harmonisasi'\n        elif ('grey' not in status_img[1]['src']):\n            status = 'Penyusunan'\n        else:\n            status = 'Terdaftar'\n    if 'PEMERINTAH' in sponsors:\n        if ('grey' not in status_img[3]['src']):\n            status = 'Selesai'\n        elif ('grey' not in status_img[2]['src']):\n            status = 'Keputusan'\n        elif ('grey' not in status_img[1]['src']):\n            status = 'Pembahasan'\n        else:\n            status = 'Terdaftar'\n    if sponsors == 'DPD':\n        if ('grey' not in status_img[4]['src']):\n            status = 'Selesai'\n        elif ('grey' not in status_img[3]['src']):\n            status = 'Keputusan'\n        elif ('grey' not in status_img[2]['src']):\n            status = 'Pembahasan'\n        elif ('grey' not in status_img[1]['src']):\n            status = 'Penetapan Usul'\n        else:\n            status = 'Terdaftar'\n    return status",
   "execution_count": 13,
   "outputs": []
  },
  {
   "cell_type": "markdown",
   "source": "### Test",
   "metadata": {
    "formattedRanges": [],
    "is_collapsed": false,
    "tags": [],
    "cell_id": "00009-8164e205-bd73-4409-a670-d52ac186db6b",
    "deepnote_cell_type": "text-cell-h3"
   }
  },
  {
   "cell_type": "code",
   "metadata": {
    "cell_id": "609f9a00aa234fc3a246d64685d6341a",
    "tags": [],
    "deepnote_to_be_reexecuted": false,
    "source_hash": "fee0a02d",
    "execution_start": 1661556580801,
    "execution_millis": 780,
    "deepnote_cell_type": "code",
    "deepnote_cell_height": 112.1875
   },
   "source": "links2024[5]",
   "execution_count": 14,
   "outputs": [
    {
     "output_type": "execute_result",
     "execution_count": 14,
     "data": {
      "text/plain": "'https://www.dpr.go.id/uu/detail/id/243'"
     },
     "metadata": {}
    }
   ]
  },
  {
   "cell_type": "code",
   "metadata": {
    "tags": [],
    "deepnote_to_be_reexecuted": false,
    "source_hash": "b1470ffe",
    "execution_start": 1661556580802,
    "execution_millis": 878,
    "cell_id": "00010-38917a7c-b8b5-4efb-9f9b-df2e043d9fab",
    "deepnote_cell_type": "code",
    "deepnote_cell_height": 387
   },
   "source": "soup = connectDPR('https://www.dpr.go.id/uu/detail/id/1')\nhead = soup.find('div', {'class':'card-body'})\npengusul = soup.select('#accordion > div:nth-child(2) > div > div:nth-child(1) > div > div.col-md-7 > div > div > ul')\npenugasan = soup.select('#accordion > div:nth-child(2) > div > div:nth-child(1) > div > div.col-md-5 > div > div > ul')\npenugasan = \"|\".join([i.text.strip() for i in penugasan[0]])\npengusul = \"|\".join([i.text.strip() for i in pengusul[0]])\nname = head.find('h3', {'class':'title-detail'}).text.strip()\ndate = head.find('li').text[17:]\nsponsor = head.find('span', {'class':'label label-dpr'}).text.strip()\n\nstatus_img = head.findAll('img', {'class':'progres-icon'})\nstatus = recent_status(status_img, sponsor)\nprint(penugasan)\nprint(name, date, sponsor, status)",
   "execution_count": 15,
   "outputs": [
    {
     "name": "stdout",
     "text": "<Response [200]>\n|Komisi I (set_komisi1@dpr.go.id)|\nRUU tentang Perubahan atas Undang-Undang Nomor 32 Tahun 2002 tentang Penyiaran 02 Februari 2015 DPR Keputusan\n",
     "output_type": "stream"
    }
   ]
  },
  {
   "cell_type": "code",
   "metadata": {
    "cell_id": "502fab41d50f43be8e7de87176dc7541",
    "tags": [],
    "deepnote_to_be_reexecuted": false,
    "source_hash": "b31fd813",
    "execution_start": 1661556581680,
    "execution_millis": 3,
    "deepnote_cell_type": "code",
    "deepnote_cell_height": 130.1875
   },
   "source": "\n",
   "execution_count": 15,
   "outputs": []
  },
  {
   "cell_type": "markdown",
   "source": "### Prolegnas 2024 via Specific Link",
   "metadata": {
    "formattedRanges": [],
    "is_collapsed": false,
    "tags": [],
    "cell_id": "00011-a9435712-8744-4ae6-a5e8-baf79d6e9a02",
    "deepnote_cell_type": "text-cell-h3"
   }
  },
  {
   "cell_type": "code",
   "metadata": {
    "tags": [],
    "deepnote_to_be_reexecuted": false,
    "source_hash": "fc3dd260",
    "execution_start": 1661556581685,
    "execution_millis": 154627,
    "cell_id": "00012-329571c8-047c-4e2d-a445-3e84d6a9d460",
    "deepnote_cell_type": "code",
    "deepnote_cell_height": 1020
   },
   "source": "all_data2024 = []\n\nfor link in links2024:\n    soup = connectDPR(link)\n    head = soup.find('div', {'class':'card-body'})\n\n    name = head.find('h3', {'class':'title-detail'}).text.strip()\n    date = head.find('li').text[17:]\n    sponsor = head.find('span', {'class':'label label-dpr'}).text.strip()\n\n    state_img = head.find_all('img', {'class':'progres-icon'})\n    state = recent_status(state_img, sponsor)\n\n    prioritas = 'Tidak'\n    if name in prioritas2024_list:\n            prioritas = 'Ya'\n    \n    data = [name, date, sponsor, state, prioritas]\n    all_data2024.append(data)",
   "execution_count": null,
   "outputs": [
    {
     "name": "stdout",
     "text": "<Response [200]>\n<Response [200]>\n<Response [200]>\n",
     "output_type": "stream"
    }
   ]
  },
  {
   "cell_type": "code",
   "metadata": {
    "tags": [],
    "deepnote_to_be_reexecuted": true,
    "source_hash": "f9c47fe3",
    "execution_start": 1661234925067,
    "execution_millis": 90,
    "cell_id": "00013-877db88d-18fa-4209-b0c8-5be65a2dca07",
    "deepnote_cell_type": "code",
    "deepnote_cell_height": 413
   },
   "source": "df2024_specific = pd.DataFrame(all_data2024, columns=['Judul Ruu', 'Tanggal Diusul', 'Pengusul', 'Status', 'Prioritas'])\ndf2024_specific.head()",
   "execution_count": null,
   "outputs": [
    {
     "output_type": "execute_result",
     "execution_count": 16,
     "data": {
      "application/vnd.deepnote.dataframe.v3+json": {
       "column_count": 5,
       "row_count": 5,
       "columns": [
        {
         "name": "Judul Ruu",
         "dtype": "object",
         "stats": {
          "unique_count": 5,
          "nan_count": 0,
          "categories": [
           {
            "name": "RUU tentang Keamanan dan Ketahanan Siber",
            "count": 1
           },
           {
            "name": "RUU tentang Perubahan atas Undang-Undang Nomor 32 Tahun 2002 tentang Penyiaran",
            "count": 1
           },
           {
            "name": "3 others",
            "count": 3
           }
          ]
         }
        },
        {
         "name": "Tanggal Diusul",
         "dtype": "object",
         "stats": {
          "unique_count": 1,
          "nan_count": 0,
          "categories": [
           {
            "name": "17 Desember 2019",
            "count": 5
           }
          ]
         }
        },
        {
         "name": "Pengusul",
         "dtype": "object",
         "stats": {
          "unique_count": 1,
          "nan_count": 0,
          "categories": [
           {
            "name": "DPR",
            "count": 5
           }
          ]
         }
        },
        {
         "name": "Status",
         "dtype": "object",
         "stats": {
          "unique_count": 2,
          "nan_count": 0,
          "categories": [
           {
            "name": "Terdaftar",
            "count": 4
           },
           {
            "name": "Penyusunan",
            "count": 1
           }
          ]
         }
        },
        {
         "name": "Prioritas",
         "dtype": "object",
         "stats": {
          "unique_count": 2,
          "nan_count": 0,
          "categories": [
           {
            "name": "Tidak",
            "count": 4
           },
           {
            "name": "Ya",
            "count": 1
           }
          ]
         }
        },
        {
         "name": "_deepnote_index_column",
         "dtype": "int64"
        }
       ],
       "rows": [
        {
         "Judul Ruu": "RUU tentang Keamanan dan Ketahanan Siber",
         "Tanggal Diusul": "17 Desember 2019",
         "Pengusul": "DPR",
         "Status": "Terdaftar",
         "Prioritas": "Tidak",
         "_deepnote_index_column": 0
        },
        {
         "Judul Ruu": "RUU tentang Perubahan atas Undang-Undang Nomor 32 Tahun 2002 tentang Penyiaran",
         "Tanggal Diusul": "17 Desember 2019",
         "Pengusul": "DPR",
         "Status": "Penyusunan",
         "Prioritas": "Ya",
         "_deepnote_index_column": 1
        },
        {
         "Judul Ruu": "RUU tentang Radio Televisi Republik Indonesia",
         "Tanggal Diusul": "17 Desember 2019",
         "Pengusul": "DPR",
         "Status": "Terdaftar",
         "Prioritas": "Tidak",
         "_deepnote_index_column": 2
        },
        {
         "Judul Ruu": "RUU tentang Keamanan Laut",
         "Tanggal Diusul": "17 Desember 2019",
         "Pengusul": "DPR",
         "Status": "Terdaftar",
         "Prioritas": "Tidak",
         "_deepnote_index_column": 3
        },
        {
         "Judul Ruu": "RUU tentang Perubahan atas Undang-Undang Nomor 3 Tahun 2002 tentang Pertahanan",
         "Tanggal Diusul": "17 Desember 2019",
         "Pengusul": "DPR",
         "Status": "Terdaftar",
         "Prioritas": "Tidak",
         "_deepnote_index_column": 4
        }
       ]
      },
      "text/plain": "                                           Judul Ruu    Tanggal Diusul  \\\n0           RUU tentang Keamanan dan Ketahanan Siber  17 Desember 2019   \n1  RUU tentang Perubahan atas Undang-Undang Nomor...  17 Desember 2019   \n2      RUU tentang Radio Televisi Republik Indonesia  17 Desember 2019   \n3                          RUU tentang Keamanan Laut  17 Desember 2019   \n4  RUU tentang Perubahan atas Undang-Undang Nomor...  17 Desember 2019   \n\n  Pengusul      Status Prioritas  \n0      DPR   Terdaftar     Tidak  \n1      DPR  Penyusunan        Ya  \n2      DPR   Terdaftar     Tidak  \n3      DPR   Terdaftar     Tidak  \n4      DPR   Terdaftar     Tidak  ",
      "text/html": "<div>\n<style scoped>\n    .dataframe tbody tr th:only-of-type {\n        vertical-align: middle;\n    }\n\n    .dataframe tbody tr th {\n        vertical-align: top;\n    }\n\n    .dataframe thead th {\n        text-align: right;\n    }\n</style>\n<table border=\"1\" class=\"dataframe\">\n  <thead>\n    <tr style=\"text-align: right;\">\n      <th></th>\n      <th>Judul Ruu</th>\n      <th>Tanggal Diusul</th>\n      <th>Pengusul</th>\n      <th>Status</th>\n      <th>Prioritas</th>\n    </tr>\n  </thead>\n  <tbody>\n    <tr>\n      <th>0</th>\n      <td>RUU tentang Keamanan dan Ketahanan Siber</td>\n      <td>17 Desember 2019</td>\n      <td>DPR</td>\n      <td>Terdaftar</td>\n      <td>Tidak</td>\n    </tr>\n    <tr>\n      <th>1</th>\n      <td>RUU tentang Perubahan atas Undang-Undang Nomor...</td>\n      <td>17 Desember 2019</td>\n      <td>DPR</td>\n      <td>Penyusunan</td>\n      <td>Ya</td>\n    </tr>\n    <tr>\n      <th>2</th>\n      <td>RUU tentang Radio Televisi Republik Indonesia</td>\n      <td>17 Desember 2019</td>\n      <td>DPR</td>\n      <td>Terdaftar</td>\n      <td>Tidak</td>\n    </tr>\n    <tr>\n      <th>3</th>\n      <td>RUU tentang Keamanan Laut</td>\n      <td>17 Desember 2019</td>\n      <td>DPR</td>\n      <td>Terdaftar</td>\n      <td>Tidak</td>\n    </tr>\n    <tr>\n      <th>4</th>\n      <td>RUU tentang Perubahan atas Undang-Undang Nomor...</td>\n      <td>17 Desember 2019</td>\n      <td>DPR</td>\n      <td>Terdaftar</td>\n      <td>Tidak</td>\n    </tr>\n  </tbody>\n</table>\n</div>"
     },
     "metadata": {}
    }
   ]
  },
  {
   "cell_type": "markdown",
   "source": "### Prolegnas 2019 via Specific Link",
   "metadata": {
    "formattedRanges": [],
    "is_collapsed": false,
    "tags": [],
    "cell_id": "00014-dc63d642-57ef-4de4-b6c6-2161afac2923",
    "deepnote_cell_type": "text-cell-h3"
   }
  },
  {
   "cell_type": "code",
   "metadata": {
    "tags": [],
    "deepnote_to_be_reexecuted": true,
    "source_hash": "8ceed142",
    "execution_start": 1661234925097,
    "execution_millis": 118146,
    "cell_id": "00015-2ef95f6c-cb34-4302-b38b-a859139e8959",
    "deepnote_cell_type": "code",
    "deepnote_cell_height": 1056
   },
   "source": "all_data2019 = []\n\nfor link in links2019:\n    soup = connectDPR(link)\n    head = soup.find('div', {'class':'card-body'})\n\n    name = head.find('h3', {'class':'title-detail'}).text\n    date = head.find('li').text[17:].strip()\n    sponsor = head.find('span', {'class':'label label-dpr'}).text.strip()\n\n    state_img = head.find_all('img', {'class':'progres-icon'})\n    state = recent_status(state_img, sponsor)\n\n    prioritas = 'Tidak'\n    if name in prioritas2019_list:\n            prioritas = 'Ya'\n    \n    data = [name, date, sponsor, state, prioritas]\n\n    data = [name, date, sponsor, state]\n    all_data2019.append(data)",
   "execution_count": null,
   "outputs": [
    {
     "name": "stdout",
     "text": "<Response [200]>\n<Response [200]>\n<Response [200]>\n<Response [200]>\n<Response [200]>\n<Response [200]>\n<Response [200]>\n<Response [200]>\n<Response [200]>\n<Response [200]>\n<Response [200]>\n<Response [200]>\n<Response [200]>\n<Response [200]>\n<Response [200]>\n<Response [200]>\n<Response [200]>\n<Response [200]>\n<Response [200]>\n<Response [200]>\n<Response [200]>\n<Response [200]>\n<Response [200]>\n<Response [200]>\n<Response [200]>\n<Response [200]>\n<Response [200]>\n<Response [200]>\n<Response [200]>\n<Response [200]>\n<Response [200]>\n<Response [200]>\n<Response [200]>\n<Response [200]>\n<Response [200]>\n<Response [200]>\n<Response [200]>\n<Response [200]>\n<Response [200]>\n<Response [200]>\n<Response [200]>\n<Response [200]>\n<Response [200]>\n<Response [200]>\n<Response [200]>\n<Response [200]>\n<Response [200]>\n<Response [200]>\n<Response [200]>\n<Response [200]>\n<Response [200]>\n<Response [200]>\n<Response [200]>\n<Response [200]>\n<Response [200]>\n<Response [200]>\n<Response [200]>\n<Response [200]>\n<Response [200]>\n<Response [200]>\n<Response [200]>\n<Response [200]>\n<Response [200]>\n<Response [200]>\n<Response [200]>\n<Response [200]>\n<Response [200]>\n<Response [200]>\n<Response [200]>\n<Response [200]>\n<Response [200]>\n<Response [200]>\n<Response [200]>\n<Response [200]>\n<Response [200]>\n<Response [200]>\n<Response [200]>\n<Response [200]>\n<Response [200]>\n<Response [200]>\n<Response [200]>\n<Response [200]>\n<Response [200]>\n<Response [200]>\n<Response [200]>\n<Response [200]>\n<Response [200]>\n<Response [200]>\n<Response [200]>\n<Response [200]>\n<Response [200]>\n<Response [200]>\n<Response [200]>\n<Response [200]>\n<Response [200]>\n<Response [200]>\n<Response [200]>\n<Response [200]>\n<Response [200]>\n<Response [200]>\n<Response [200]>\n<Response [200]>\n<Response [200]>\n<Response [200]>\n<Response [200]>\n<Response [200]>\n<Response [200]>\n<Response [200]>\n<Response [200]>\n<Response [200]>\n<Response [200]>\n<Response [200]>\n<Response [200]>\n<Response [200]>\n<Response [200]>\n<Response [200]>\n<Response [200]>\n<Response [200]>\n<Response [200]>\n<Response [200]>\n<Response [200]>\n<Response [200]>\n<Response [200]>\n<Response [200]>\n<Response [200]>\n<Response [200]>\n<Response [200]>\n<Response [200]>\n<Response [200]>\n<Response [200]>\n<Response [200]>\n<Response [200]>\n<Response [200]>\n<Response [200]>\n<Response [200]>\n<Response [200]>\n<Response [200]>\n<Response [200]>\n<Response [200]>\n<Response [200]>\n<Response [200]>\n<Response [200]>\n<Response [200]>\n<Response [200]>\n<Response [200]>\n<Response [200]>\n<Response [200]>\n<Response [200]>\n<Response [200]>\n<Response [200]>\n<Response [200]>\n<Response [200]>\n<Response [200]>\n<Response [200]>\n<Response [200]>\n<Response [200]>\n<Response [200]>\n<Response [200]>\n<Response [200]>\n<Response [200]>\n<Response [200]>\n<Response [200]>\n<Response [200]>\n<Response [200]>\n<Response [200]>\n<Response [200]>\n<Response [200]>\n<Response [200]>\n<Response [200]>\n<Response [200]>\n<Response [200]>\n<Response [200]>\n<Response [200]>\n<Response [200]>\n<Response [200]>\n<Response [200]>\n<Response [200]>\n<Response [200]>\n<Response [200]>\n<Response [200]>\n<Response [200]>\n<Response [200]>\n<Response [200]>\n<Response [200]>\n<Response [200]>\n<Response [200]>\n<Response [200]>\n<Response [200]>\n<Response [200]>\n<Response [200]>\n",
     "output_type": "stream"
    }
   ]
  },
  {
   "cell_type": "code",
   "metadata": {
    "tags": [],
    "deepnote_to_be_reexecuted": true,
    "source_hash": "29b7b826",
    "execution_start": 1661235043244,
    "execution_millis": 1892,
    "cell_id": "00016-c8643a17-63bf-4a08-a1f9-1b683b8eb578",
    "deepnote_cell_type": "code",
    "deepnote_cell_height": 162.1875
   },
   "source": "df2019_specific = pd.DataFrame(all_data2019, columns=['Judul Ruu', 'Tanggal Diusul', 'Pengusul', 'Status', 'Prioritas'])\ndf2019_specific.head()",
   "execution_count": null,
   "outputs": [
    {
     "output_type": "error",
     "ename": "ValueError",
     "evalue": "5 columns passed, passed data had 4 columns",
     "traceback": [
      "\u001b[0;31m---------------------------------------------------------------------------\u001b[0m",
      "\u001b[0;31mAssertionError\u001b[0m                            Traceback (most recent call last)",
      "File \u001b[0;32m/shared-libs/python3.9/py/lib/python3.9/site-packages/pandas/core/internals/construction.py:568\u001b[0m, in \u001b[0;36m_list_to_arrays\u001b[0;34m(data, columns, coerce_float, dtype)\u001b[0m\n\u001b[1;32m    567\u001b[0m \u001b[38;5;28;01mtry\u001b[39;00m:\n\u001b[0;32m--> 568\u001b[0m     columns \u001b[38;5;241m=\u001b[39m \u001b[43m_validate_or_indexify_columns\u001b[49m\u001b[43m(\u001b[49m\u001b[43mcontent\u001b[49m\u001b[43m,\u001b[49m\u001b[43m \u001b[49m\u001b[43mcolumns\u001b[49m\u001b[43m)\u001b[49m\n\u001b[1;32m    569\u001b[0m     result \u001b[38;5;241m=\u001b[39m _convert_object_array(content, dtype\u001b[38;5;241m=\u001b[39mdtype, coerce_float\u001b[38;5;241m=\u001b[39mcoerce_float)\n",
      "File \u001b[0;32m/shared-libs/python3.9/py/lib/python3.9/site-packages/pandas/core/internals/construction.py:692\u001b[0m, in \u001b[0;36m_validate_or_indexify_columns\u001b[0;34m(content, columns)\u001b[0m\n\u001b[1;32m    690\u001b[0m \u001b[38;5;28;01mif\u001b[39;00m \u001b[38;5;129;01mnot\u001b[39;00m is_mi_list \u001b[38;5;129;01mand\u001b[39;00m \u001b[38;5;28mlen\u001b[39m(columns) \u001b[38;5;241m!=\u001b[39m \u001b[38;5;28mlen\u001b[39m(content):  \u001b[38;5;66;03m# pragma: no cover\u001b[39;00m\n\u001b[1;32m    691\u001b[0m     \u001b[38;5;66;03m# caller's responsibility to check for this...\u001b[39;00m\n\u001b[0;32m--> 692\u001b[0m     \u001b[38;5;28;01mraise\u001b[39;00m \u001b[38;5;167;01mAssertionError\u001b[39;00m(\n\u001b[1;32m    693\u001b[0m         \u001b[38;5;124mf\u001b[39m\u001b[38;5;124m\"\u001b[39m\u001b[38;5;132;01m{\u001b[39;00m\u001b[38;5;28mlen\u001b[39m(columns)\u001b[38;5;132;01m}\u001b[39;00m\u001b[38;5;124m columns passed, passed data had \u001b[39m\u001b[38;5;124m\"\u001b[39m\n\u001b[1;32m    694\u001b[0m         \u001b[38;5;124mf\u001b[39m\u001b[38;5;124m\"\u001b[39m\u001b[38;5;132;01m{\u001b[39;00m\u001b[38;5;28mlen\u001b[39m(content)\u001b[38;5;132;01m}\u001b[39;00m\u001b[38;5;124m columns\u001b[39m\u001b[38;5;124m\"\u001b[39m\n\u001b[1;32m    695\u001b[0m     )\n\u001b[1;32m    696\u001b[0m \u001b[38;5;28;01melif\u001b[39;00m is_mi_list:\n\u001b[1;32m    697\u001b[0m \n\u001b[1;32m    698\u001b[0m     \u001b[38;5;66;03m# check if nested list column, length of each sub-list should be equal\u001b[39;00m\n",
      "\u001b[0;31mAssertionError\u001b[0m: 5 columns passed, passed data had 4 columns",
      "\nThe above exception was the direct cause of the following exception:\n",
      "\u001b[0;31mValueError\u001b[0m                                Traceback (most recent call last)",
      "Input \u001b[0;32mIn [18]\u001b[0m, in \u001b[0;36m<cell line: 1>\u001b[0;34m()\u001b[0m\n\u001b[0;32m----> 1\u001b[0m df2019_specific \u001b[38;5;241m=\u001b[39m \u001b[43mpd\u001b[49m\u001b[38;5;241;43m.\u001b[39;49m\u001b[43mDataFrame\u001b[49m\u001b[43m(\u001b[49m\u001b[43mall_data2019\u001b[49m\u001b[43m,\u001b[49m\u001b[43m \u001b[49m\u001b[43mcolumns\u001b[49m\u001b[38;5;241;43m=\u001b[39;49m\u001b[43m[\u001b[49m\u001b[38;5;124;43m'\u001b[39;49m\u001b[38;5;124;43mJudul Ruu\u001b[39;49m\u001b[38;5;124;43m'\u001b[39;49m\u001b[43m,\u001b[49m\u001b[43m \u001b[49m\u001b[38;5;124;43m'\u001b[39;49m\u001b[38;5;124;43mTanggal Diusul\u001b[39;49m\u001b[38;5;124;43m'\u001b[39;49m\u001b[43m,\u001b[49m\u001b[43m \u001b[49m\u001b[38;5;124;43m'\u001b[39;49m\u001b[38;5;124;43mPengusul\u001b[39;49m\u001b[38;5;124;43m'\u001b[39;49m\u001b[43m,\u001b[49m\u001b[43m \u001b[49m\u001b[38;5;124;43m'\u001b[39;49m\u001b[38;5;124;43mStatus\u001b[39;49m\u001b[38;5;124;43m'\u001b[39;49m\u001b[43m,\u001b[49m\u001b[43m \u001b[49m\u001b[38;5;124;43m'\u001b[39;49m\u001b[38;5;124;43mPrioritas\u001b[39;49m\u001b[38;5;124;43m'\u001b[39;49m\u001b[43m]\u001b[49m\u001b[43m)\u001b[49m\n\u001b[1;32m      2\u001b[0m df2019_specific\u001b[38;5;241m.\u001b[39mhead()\n",
      "File \u001b[0;32m/shared-libs/python3.9/py/lib/python3.9/site-packages/pandas/core/frame.py:570\u001b[0m, in \u001b[0;36mDataFrame.__init__\u001b[0;34m(self, data, index, columns, dtype, copy)\u001b[0m\n\u001b[1;32m    568\u001b[0m \u001b[38;5;28;01mif\u001b[39;00m is_named_tuple(data[\u001b[38;5;241m0\u001b[39m]) \u001b[38;5;129;01mand\u001b[39;00m columns \u001b[38;5;129;01mis\u001b[39;00m \u001b[38;5;28;01mNone\u001b[39;00m:\n\u001b[1;32m    569\u001b[0m     columns \u001b[38;5;241m=\u001b[39m data[\u001b[38;5;241m0\u001b[39m]\u001b[38;5;241m.\u001b[39m_fields\n\u001b[0;32m--> 570\u001b[0m arrays, columns \u001b[38;5;241m=\u001b[39m \u001b[43mto_arrays\u001b[49m\u001b[43m(\u001b[49m\u001b[43mdata\u001b[49m\u001b[43m,\u001b[49m\u001b[43m \u001b[49m\u001b[43mcolumns\u001b[49m\u001b[43m,\u001b[49m\u001b[43m \u001b[49m\u001b[43mdtype\u001b[49m\u001b[38;5;241;43m=\u001b[39;49m\u001b[43mdtype\u001b[49m\u001b[43m)\u001b[49m\n\u001b[1;32m    571\u001b[0m columns \u001b[38;5;241m=\u001b[39m ensure_index(columns)\n\u001b[1;32m    573\u001b[0m \u001b[38;5;66;03m# set the index\u001b[39;00m\n",
      "File \u001b[0;32m/shared-libs/python3.9/py/lib/python3.9/site-packages/pandas/core/internals/construction.py:528\u001b[0m, in \u001b[0;36mto_arrays\u001b[0;34m(data, columns, coerce_float, dtype)\u001b[0m\n\u001b[1;32m    526\u001b[0m     \u001b[38;5;28;01mreturn\u001b[39;00m [], []  \u001b[38;5;66;03m# columns if columns is not None else []\u001b[39;00m\n\u001b[1;32m    527\u001b[0m \u001b[38;5;28;01mif\u001b[39;00m \u001b[38;5;28misinstance\u001b[39m(data[\u001b[38;5;241m0\u001b[39m], (\u001b[38;5;28mlist\u001b[39m, \u001b[38;5;28mtuple\u001b[39m)):\n\u001b[0;32m--> 528\u001b[0m     \u001b[38;5;28;01mreturn\u001b[39;00m \u001b[43m_list_to_arrays\u001b[49m\u001b[43m(\u001b[49m\u001b[43mdata\u001b[49m\u001b[43m,\u001b[49m\u001b[43m \u001b[49m\u001b[43mcolumns\u001b[49m\u001b[43m,\u001b[49m\u001b[43m \u001b[49m\u001b[43mcoerce_float\u001b[49m\u001b[38;5;241;43m=\u001b[39;49m\u001b[43mcoerce_float\u001b[49m\u001b[43m,\u001b[49m\u001b[43m \u001b[49m\u001b[43mdtype\u001b[49m\u001b[38;5;241;43m=\u001b[39;49m\u001b[43mdtype\u001b[49m\u001b[43m)\u001b[49m\n\u001b[1;32m    529\u001b[0m \u001b[38;5;28;01melif\u001b[39;00m \u001b[38;5;28misinstance\u001b[39m(data[\u001b[38;5;241m0\u001b[39m], abc\u001b[38;5;241m.\u001b[39mMapping):\n\u001b[1;32m    530\u001b[0m     \u001b[38;5;28;01mreturn\u001b[39;00m _list_of_dict_to_arrays(\n\u001b[1;32m    531\u001b[0m         data, columns, coerce_float\u001b[38;5;241m=\u001b[39mcoerce_float, dtype\u001b[38;5;241m=\u001b[39mdtype\n\u001b[1;32m    532\u001b[0m     )\n",
      "File \u001b[0;32m/shared-libs/python3.9/py/lib/python3.9/site-packages/pandas/core/internals/construction.py:571\u001b[0m, in \u001b[0;36m_list_to_arrays\u001b[0;34m(data, columns, coerce_float, dtype)\u001b[0m\n\u001b[1;32m    569\u001b[0m     result \u001b[38;5;241m=\u001b[39m _convert_object_array(content, dtype\u001b[38;5;241m=\u001b[39mdtype, coerce_float\u001b[38;5;241m=\u001b[39mcoerce_float)\n\u001b[1;32m    570\u001b[0m \u001b[38;5;28;01mexcept\u001b[39;00m \u001b[38;5;167;01mAssertionError\u001b[39;00m \u001b[38;5;28;01mas\u001b[39;00m e:\n\u001b[0;32m--> 571\u001b[0m     \u001b[38;5;28;01mraise\u001b[39;00m \u001b[38;5;167;01mValueError\u001b[39;00m(e) \u001b[38;5;28;01mfrom\u001b[39;00m \u001b[38;5;21;01me\u001b[39;00m\n\u001b[1;32m    572\u001b[0m \u001b[38;5;28;01mreturn\u001b[39;00m result, columns\n",
      "\u001b[0;31mValueError\u001b[0m: 5 columns passed, passed data had 4 columns"
     ]
    }
   ]
  },
  {
   "cell_type": "markdown",
   "source": "<a style='text-decoration:none;line-height:16px;display:flex;color:#5B5B62;padding:10px;justify-content:end;' href='https://deepnote.com?utm_source=created-in-deepnote-cell&projectId=45b28f99-d503-49a3-bd9e-f98821f9fde8' target=\"_blank\">\n<img alt='Created in deepnote.com' style='display:inline;max-height:16px;margin:0px;margin-right:7.5px;' src='data:image/svg+xml;base64,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' > </img>\nCreated in <span style='font-weight:600;margin-left:4px;'>Deepnote</span></a>",
   "metadata": {
    "tags": [],
    "created_in_deepnote_cell": true,
    "deepnote_cell_type": "markdown"
   }
  }
 ],
 "nbformat": 4,
 "nbformat_minor": 2,
 "metadata": {
  "orig_nbformat": 2,
  "deepnote": {},
  "deepnote_notebook_id": "494420d0-9f5c-46dc-b483-0c5e5214217c",
  "deepnote_execution_queue": [
   {
    "cellId": "00012-329571c8-047c-4e2d-a445-3e84d6a9d460",
    "sessionId": "582cd275-c32e-4b30-9a0f-b04db76e03fd",
    "msgId": "576399ba-18b4-4ebd-925f-fe1d5a298cc9"
   },
   {
    "cellId": "00013-877db88d-18fa-4209-b0c8-5be65a2dca07",
    "sessionId": "582cd275-c32e-4b30-9a0f-b04db76e03fd",
    "msgId": "d86442a9-18c6-4d40-b79e-20f5b973bb91"
   },
   {
    "cellId": "00015-2ef95f6c-cb34-4302-b38b-a859139e8959",
    "sessionId": "582cd275-c32e-4b30-9a0f-b04db76e03fd",
    "msgId": "1ab9831f-7e6e-44eb-9dac-1b38fdbf2bfe"
   },
   {
    "cellId": "00016-c8643a17-63bf-4a08-a1f9-1b683b8eb578",
    "sessionId": "582cd275-c32e-4b30-9a0f-b04db76e03fd",
    "msgId": "b4fd54ec-acf6-4b56-95ce-323f7fc71c67"
   }
  ]
 }
}